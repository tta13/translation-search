{
 "cells": [
  {
   "cell_type": "markdown",
   "metadata": {},
   "source": [
    "# Análise dos resultados de traduções"
   ]
  },
  {
   "cell_type": "code",
   "execution_count": 4,
   "metadata": {},
   "outputs": [],
   "source": [
    "import pandas as pd\n",
    "import matplotlib\n",
    "\n",
    "BASE_PATH = '../results'"
   ]
  },
  {
   "cell_type": "code",
   "execution_count": 5,
   "metadata": {},
   "outputs": [],
   "source": [
    "def treat_data(df, drop_dups=True, drop_na=True):\n",
    "  df = df.copy()\n",
    "  if drop_dups: df = df.drop_duplicates()\n",
    "  if drop_na: df = df.dropna()\n",
    "  return df"
   ]
  },
  {
   "cell_type": "code",
   "execution_count": 6,
   "metadata": {},
   "outputs": [],
   "source": [
    "cols = ['dataset', 'chrf_score', 'bleurt']\n",
    "df_results = pd.DataFrame(columns=cols)"
   ]
  },
  {
   "cell_type": "markdown",
   "metadata": {},
   "source": [
    "## DGT-TM"
   ]
  },
  {
   "cell_type": "code",
   "execution_count": 7,
   "metadata": {},
   "outputs": [
    {
     "name": "stdout",
     "output_type": "stream",
     "text": [
      "(51185, 6)\n"
     ]
    },
    {
     "data": {
      "text/html": [
       "<div>\n",
       "<style scoped>\n",
       "    .dataframe tbody tr th:only-of-type {\n",
       "        vertical-align: middle;\n",
       "    }\n",
       "\n",
       "    .dataframe tbody tr th {\n",
       "        vertical-align: top;\n",
       "    }\n",
       "\n",
       "    .dataframe thead th {\n",
       "        text-align: right;\n",
       "    }\n",
       "</style>\n",
       "<table border=\"1\" class=\"dataframe\">\n",
       "  <thead>\n",
       "    <tr style=\"text-align: right;\">\n",
       "      <th></th>\n",
       "      <th>source</th>\n",
       "      <th>target</th>\n",
       "      <th>translation</th>\n",
       "      <th>search_result</th>\n",
       "      <th>chrf_score</th>\n",
       "      <th>bleurt</th>\n",
       "    </tr>\n",
       "  </thead>\n",
       "  <tbody>\n",
       "    <tr>\n",
       "      <th>0</th>\n",
       "      <td>Commission Decision (EU) 2019/293</td>\n",
       "      <td>Decisión (UE) 2019/293 de la Comisión</td>\n",
       "      <td>Decisión (UE) 2019/293 de la Comisión</td>\n",
       "      <td>Decisión (UE) 2018/393 de la Comisión</td>\n",
       "      <td>0.814768</td>\n",
       "      <td>0.791992</td>\n",
       "    </tr>\n",
       "    <tr>\n",
       "      <th>1</th>\n",
       "      <td>of 8 November 2018</td>\n",
       "      <td>de 8 de noviembre de 2018</td>\n",
       "      <td>de 8 de noviembre de 2018</td>\n",
       "      <td>de 8 de noviembre de 2018</td>\n",
       "      <td>1.000000</td>\n",
       "      <td>0.968262</td>\n",
       "    </tr>\n",
       "    <tr>\n",
       "      <th>2</th>\n",
       "      <td>on the State aid SA.43785 (2018/C) (ex 2015/PN...</td>\n",
       "      <td>relativa a la ayuda estatal SA.43785 (2018/C) ...</td>\n",
       "      <td>relativa a la ayuda estatal SA.43785 (2018/C) ...</td>\n",
       "      <td>relativa a la ayuda estatal SA.34308 (2013/C) ...</td>\n",
       "      <td>0.414245</td>\n",
       "      <td>0.391357</td>\n",
       "    </tr>\n",
       "    <tr>\n",
       "      <th>3</th>\n",
       "      <td>(notified under document C(2018) 7308)</td>\n",
       "      <td>[notificada con el número C(2018) 7308]</td>\n",
       "      <td>[notificada con el número C(2018) 7308]</td>\n",
       "      <td>[notificada con el número C(2018) 7304]</td>\n",
       "      <td>0.941222</td>\n",
       "      <td>0.968262</td>\n",
       "    </tr>\n",
       "    <tr>\n",
       "      <th>4</th>\n",
       "      <td>(Only the Romanian text is authentic)</td>\n",
       "      <td>(El texto en lengua rumana es el único auténtico)</td>\n",
       "      <td>(El texto en lengua rumana es el único auténtico)</td>\n",
       "      <td>(El texto en lengua rumana es el único auténtico)</td>\n",
       "      <td>1.000000</td>\n",
       "      <td>1.021484</td>\n",
       "    </tr>\n",
       "  </tbody>\n",
       "</table>\n",
       "</div>"
      ],
      "text/plain": [
       "                                              source  \\\n",
       "0                  Commission Decision (EU) 2019/293   \n",
       "1                                 of 8 November 2018   \n",
       "2  on the State aid SA.43785 (2018/C) (ex 2015/PN...   \n",
       "3             (notified under document C(2018) 7308)   \n",
       "4              (Only the Romanian text is authentic)   \n",
       "\n",
       "                                              target  \\\n",
       "0              Decisión (UE) 2019/293 de la Comisión   \n",
       "1                          de 8 de noviembre de 2018   \n",
       "2  relativa a la ayuda estatal SA.43785 (2018/C) ...   \n",
       "3            [notificada con el número C(2018) 7308]   \n",
       "4  (El texto en lengua rumana es el único auténtico)   \n",
       "\n",
       "                                         translation  \\\n",
       "0              Decisión (UE) 2019/293 de la Comisión   \n",
       "1                          de 8 de noviembre de 2018   \n",
       "2  relativa a la ayuda estatal SA.43785 (2018/C) ...   \n",
       "3            [notificada con el número C(2018) 7308]   \n",
       "4  (El texto en lengua rumana es el único auténtico)   \n",
       "\n",
       "                                       search_result  chrf_score    bleurt  \n",
       "0              Decisión (UE) 2018/393 de la Comisión    0.814768  0.791992  \n",
       "1                          de 8 de noviembre de 2018    1.000000  0.968262  \n",
       "2  relativa a la ayuda estatal SA.34308 (2013/C) ...    0.414245  0.391357  \n",
       "3            [notificada con el número C(2018) 7304]    0.941222  0.968262  \n",
       "4  (El texto en lengua rumana es el único auténtico)    1.000000  1.021484  "
      ]
     },
     "execution_count": 7,
     "metadata": {},
     "output_type": "execute_result"
    }
   ],
   "source": [
    "df = pd.read_csv(f'{BASE_PATH}/dgt_tm_en_es_result_scored.csv', sep='\\t')\n",
    "print(df.shape)\n",
    "df.head()"
   ]
  },
  {
   "cell_type": "code",
   "execution_count": 8,
   "metadata": {},
   "outputs": [
    {
     "data": {
      "text/plain": [
       "(49635, 6)"
      ]
     },
     "execution_count": 8,
     "metadata": {},
     "output_type": "execute_result"
    }
   ],
   "source": [
    "df.drop_duplicates().shape"
   ]
  },
  {
   "cell_type": "code",
   "execution_count": 9,
   "metadata": {},
   "outputs": [
    {
     "data": {
      "text/plain": [
       "source           2\n",
       "target           0\n",
       "translation      0\n",
       "search_result    0\n",
       "chrf_score       0\n",
       "bleurt           0\n",
       "dtype: int64"
      ]
     },
     "execution_count": 9,
     "metadata": {},
     "output_type": "execute_result"
    }
   ],
   "source": [
    "df.isna().sum()"
   ]
  },
  {
   "cell_type": "code",
   "execution_count": 10,
   "metadata": {},
   "outputs": [
    {
     "data": {
      "text/html": [
       "<div>\n",
       "<style scoped>\n",
       "    .dataframe tbody tr th:only-of-type {\n",
       "        vertical-align: middle;\n",
       "    }\n",
       "\n",
       "    .dataframe tbody tr th {\n",
       "        vertical-align: top;\n",
       "    }\n",
       "\n",
       "    .dataframe thead th {\n",
       "        text-align: right;\n",
       "    }\n",
       "</style>\n",
       "<table border=\"1\" class=\"dataframe\">\n",
       "  <thead>\n",
       "    <tr style=\"text-align: right;\">\n",
       "      <th></th>\n",
       "      <th>source</th>\n",
       "      <th>target</th>\n",
       "      <th>translation</th>\n",
       "      <th>search_result</th>\n",
       "      <th>chrf_score</th>\n",
       "      <th>bleurt</th>\n",
       "    </tr>\n",
       "  </thead>\n",
       "  <tbody>\n",
       "    <tr>\n",
       "      <th>3863</th>\n",
       "      <td>NaN</td>\n",
       "      <td>N/D</td>\n",
       "      <td>N/D</td>\n",
       "      <td>S/N</td>\n",
       "      <td>0.111111</td>\n",
       "      <td>0.402100</td>\n",
       "    </tr>\n",
       "    <tr>\n",
       "      <th>35684</th>\n",
       "      <td>NaN</td>\n",
       "      <td>n/d</td>\n",
       "      <td>n.a.</td>\n",
       "      <td>n.d.</td>\n",
       "      <td>0.107527</td>\n",
       "      <td>0.662598</td>\n",
       "    </tr>\n",
       "  </tbody>\n",
       "</table>\n",
       "</div>"
      ],
      "text/plain": [
       "      source target translation search_result  chrf_score    bleurt\n",
       "3863     NaN    N/D         N/D           S/N    0.111111  0.402100\n",
       "35684    NaN    n/d        n.a.          n.d.    0.107527  0.662598"
      ]
     },
     "execution_count": 10,
     "metadata": {},
     "output_type": "execute_result"
    }
   ],
   "source": [
    "df.loc[df['source'].isna()]"
   ]
  },
  {
   "cell_type": "code",
   "execution_count": 11,
   "metadata": {},
   "outputs": [
    {
     "data": {
      "text/plain": [
       "(49633, 6)"
      ]
     },
     "execution_count": 11,
     "metadata": {},
     "output_type": "execute_result"
    }
   ],
   "source": [
    "df = treat_data(df)\n",
    "df.shape"
   ]
  },
  {
   "cell_type": "code",
   "execution_count": 12,
   "metadata": {},
   "outputs": [
    {
     "data": {
      "text/plain": [
       "count    49633.000000\n",
       "mean         0.354347\n",
       "std          0.221355\n",
       "min          0.000000\n",
       "25%          0.222727\n",
       "50%          0.305714\n",
       "75%          0.404218\n",
       "max          1.000000\n",
       "Name: chrf_score, dtype: object"
      ]
     },
     "execution_count": 12,
     "metadata": {},
     "output_type": "execute_result"
    }
   ],
   "source": [
    "df['chrf_score'].describe().apply(\"{0:.6f}\".format)"
   ]
  },
  {
   "cell_type": "code",
   "execution_count": 13,
   "metadata": {},
   "outputs": [
    {
     "data": {
      "text/plain": [
       "count    49633.000000\n",
       "mean         0.352841\n",
       "std          0.230898\n",
       "min         -0.101501\n",
       "25%          0.199463\n",
       "50%          0.282715\n",
       "75%          0.432373\n",
       "max          1.160156\n",
       "Name: bleurt, dtype: object"
      ]
     },
     "execution_count": 13,
     "metadata": {},
     "output_type": "execute_result"
    }
   ],
   "source": [
    "df['bleurt'].describe().apply(\"{0:.6f}\".format)"
   ]
  },
  {
   "cell_type": "code",
   "execution_count": 14,
   "metadata": {},
   "outputs": [
    {
     "data": {
      "text/plain": [
       "<Axes: >"
      ]
     },
     "execution_count": 14,
     "metadata": {},
     "output_type": "execute_result"
    },
    {
     "data": {
      "image/png": "[encoded data removed]",
      "text/plain": [
       "<Figure size 640x480 with 1 Axes>"
      ]
     },
     "metadata": {},
     "output_type": "display_data"
    }
   ],
   "source": [
    "df[['chrf_score', 'bleurt']].plot.box()"
   ]
  },
  {
   "cell_type": "code",
   "execution_count": 15,
   "metadata": {},
   "outputs": [],
   "source": [
    "df['dataset'] = 'DGT-TM'"
   ]
  },
  {
   "cell_type": "code",
   "execution_count": 16,
   "metadata": {},
   "outputs": [
    {
     "data": {
      "text/plain": [
       "(49633, 3)"
      ]
     },
     "execution_count": 16,
     "metadata": {},
     "output_type": "execute_result"
    }
   ],
   "source": [
    "df_results = df[cols]\n",
    "df_results.shape"
   ]
  },
  {
   "cell_type": "markdown",
   "metadata": {},
   "source": [
    "## KDE"
   ]
  },
  {
   "cell_type": "code",
   "execution_count": 17,
   "metadata": {},
   "outputs": [
    {
     "name": "stdout",
     "output_type": "stream",
     "text": [
      "(9543, 6)\n"
     ]
    },
    {
     "data": {
      "text/html": [
       "<div>\n",
       "<style scoped>\n",
       "    .dataframe tbody tr th:only-of-type {\n",
       "        vertical-align: middle;\n",
       "    }\n",
       "\n",
       "    .dataframe tbody tr th {\n",
       "        vertical-align: top;\n",
       "    }\n",
       "\n",
       "    .dataframe thead th {\n",
       "        text-align: right;\n",
       "    }\n",
       "</style>\n",
       "<table border=\"1\" class=\"dataframe\">\n",
       "  <thead>\n",
       "    <tr style=\"text-align: right;\">\n",
       "      <th></th>\n",
       "      <th>source</th>\n",
       "      <th>target</th>\n",
       "      <th>translation</th>\n",
       "      <th>search_result</th>\n",
       "      <th>chrf_score</th>\n",
       "      <th>bleurt</th>\n",
       "    </tr>\n",
       "  </thead>\n",
       "  <tbody>\n",
       "    <tr>\n",
       "      <th>0</th>\n",
       "      <td>Telefon@item:inlistbox</td>\n",
       "      <td>Telephone</td>\n",
       "      <td>Telephone</td>\n",
       "      <td>Telephone</td>\n",
       "      <td>1.000000</td>\n",
       "      <td>0.835449</td>\n",
       "    </tr>\n",
       "    <tr>\n",
       "      <th>1</th>\n",
       "      <td>Helikopter@item:inlistbox</td>\n",
       "      <td>Helicopter</td>\n",
       "      <td>Helicopter</td>\n",
       "      <td>Helicopter</td>\n",
       "      <td>1.000000</td>\n",
       "      <td>0.586426</td>\n",
       "    </tr>\n",
       "    <tr>\n",
       "      <th>2</th>\n",
       "      <td>Applaus@item:inlistbox</td>\n",
       "      <td>Applause</td>\n",
       "      <td>Let's hear it.</td>\n",
       "      <td>Listen To</td>\n",
       "      <td>0.041667</td>\n",
       "      <td>0.057739</td>\n",
       "    </tr>\n",
       "    <tr>\n",
       "      <th>3</th>\n",
       "      <td>Gewehrschuss@item:inlistbox</td>\n",
       "      <td>Gunshot</td>\n",
       "      <td>Gunshot</td>\n",
       "      <td>Gunshot</td>\n",
       "      <td>1.000000</td>\n",
       "      <td>0.928711</td>\n",
       "    </tr>\n",
       "    <tr>\n",
       "      <th>4</th>\n",
       "      <td>Perkussion %1</td>\n",
       "      <td>Percussion %1</td>\n",
       "      <td>Percussion %1</td>\n",
       "      <td>Slide %1</td>\n",
       "      <td>0.073844</td>\n",
       "      <td>0.302490</td>\n",
       "    </tr>\n",
       "  </tbody>\n",
       "</table>\n",
       "</div>"
      ],
      "text/plain": [
       "                        source         target     translation search_result  \\\n",
       "0       Telefon@item:inlistbox      Telephone       Telephone     Telephone   \n",
       "1    Helikopter@item:inlistbox     Helicopter      Helicopter    Helicopter   \n",
       "2       Applaus@item:inlistbox       Applause  Let's hear it.     Listen To   \n",
       "3  Gewehrschuss@item:inlistbox        Gunshot         Gunshot       Gunshot   \n",
       "4                Perkussion %1  Percussion %1   Percussion %1      Slide %1   \n",
       "\n",
       "   chrf_score    bleurt  \n",
       "0    1.000000  0.835449  \n",
       "1    1.000000  0.586426  \n",
       "2    0.041667  0.057739  \n",
       "3    1.000000  0.928711  \n",
       "4    0.073844  0.302490  "
      ]
     },
     "execution_count": 17,
     "metadata": {},
     "output_type": "execute_result"
    }
   ],
   "source": [
    "df = pd.read_csv(f'{BASE_PATH}/kde_de_en_result_scored.csv', sep='\\t')\n",
    "print(df.shape)\n",
    "df.head()"
   ]
  },
  {
   "cell_type": "code",
   "execution_count": 18,
   "metadata": {},
   "outputs": [
    {
     "data": {
      "text/plain": [
       "source           1\n",
       "target           0\n",
       "translation      0\n",
       "search_result    0\n",
       "chrf_score       0\n",
       "bleurt           0\n",
       "dtype: int64"
      ]
     },
     "execution_count": 18,
     "metadata": {},
     "output_type": "execute_result"
    }
   ],
   "source": [
    "df.isna().sum()"
   ]
  },
  {
   "cell_type": "code",
   "execution_count": 19,
   "metadata": {},
   "outputs": [
    {
     "data": {
      "text/plain": [
       "(9232, 6)"
      ]
     },
     "execution_count": 19,
     "metadata": {},
     "output_type": "execute_result"
    }
   ],
   "source": [
    "df.drop_duplicates().shape"
   ]
  },
  {
   "cell_type": "code",
   "execution_count": 20,
   "metadata": {},
   "outputs": [
    {
     "data": {
      "text/plain": [
       "(9231, 6)"
      ]
     },
     "execution_count": 20,
     "metadata": {},
     "output_type": "execute_result"
    }
   ],
   "source": [
    "df = treat_data(df)\n",
    "df.shape"
   ]
  },
  {
   "cell_type": "code",
   "execution_count": 21,
   "metadata": {},
   "outputs": [
    {
     "data": {
      "text/plain": [
       "count    9.231000e+03\n",
       "mean     3.066734e-01\n",
       "std      2.364068e-01\n",
       "min      1.000000e-16\n",
       "25%      1.349064e-01\n",
       "50%      2.430093e-01\n",
       "75%      3.993350e-01\n",
       "max      1.000000e+00\n",
       "Name: chrf_score, dtype: float64"
      ]
     },
     "execution_count": 21,
     "metadata": {},
     "output_type": "execute_result"
    }
   ],
   "source": [
    "df['chrf_score'].describe()"
   ]
  },
  {
   "cell_type": "code",
   "execution_count": 22,
   "metadata": {},
   "outputs": [
    {
     "data": {
      "text/plain": [
       "count    9231.000000\n",
       "mean        0.463424\n",
       "std         0.217540\n",
       "min        -0.007626\n",
       "25%         0.323608\n",
       "50%         0.446777\n",
       "75%         0.600098\n",
       "max         1.165039\n",
       "Name: bleurt, dtype: float64"
      ]
     },
     "execution_count": 22,
     "metadata": {},
     "output_type": "execute_result"
    }
   ],
   "source": [
    "df['bleurt'].describe()"
   ]
  },
  {
   "cell_type": "code",
   "execution_count": 23,
   "metadata": {},
   "outputs": [
    {
     "data": {
      "text/plain": [
       "<Axes: >"
      ]
     },
     "execution_count": 23,
     "metadata": {},
     "output_type": "execute_result"
    },
    {
     "data": {
      "image/png": "[encoded data removed]",
      "text/plain": [
       "<Figure size 640x480 with 1 Axes>"
      ]
     },
     "metadata": {},
     "output_type": "display_data"
    }
   ],
   "source": [
    "df[['chrf_score', 'bleurt']].plot.box()"
   ]
  },
  {
   "cell_type": "code",
   "execution_count": 24,
   "metadata": {},
   "outputs": [],
   "source": [
    "df['dataset'] = 'KDE'"
   ]
  },
  {
   "cell_type": "code",
   "execution_count": 25,
   "metadata": {},
   "outputs": [
    {
     "data": {
      "text/plain": [
       "(58864, 3)"
      ]
     },
     "execution_count": 25,
     "metadata": {},
     "output_type": "execute_result"
    }
   ],
   "source": [
    "df_results = pd.concat([df_results, df[cols]])\n",
    "df_results.shape"
   ]
  },
  {
   "cell_type": "markdown",
   "metadata": {},
   "source": [
    "## Global Voices"
   ]
  },
  {
   "cell_type": "code",
   "execution_count": 26,
   "metadata": {},
   "outputs": [
    {
     "name": "stdout",
     "output_type": "stream",
     "text": [
      "(10000, 6)\n"
     ]
    },
    {
     "data": {
      "text/html": [
       "<div>\n",
       "<style scoped>\n",
       "    .dataframe tbody tr th:only-of-type {\n",
       "        vertical-align: middle;\n",
       "    }\n",
       "\n",
       "    .dataframe tbody tr th {\n",
       "        vertical-align: top;\n",
       "    }\n",
       "\n",
       "    .dataframe thead th {\n",
       "        text-align: right;\n",
       "    }\n",
       "</style>\n",
       "<table border=\"1\" class=\"dataframe\">\n",
       "  <thead>\n",
       "    <tr style=\"text-align: right;\">\n",
       "      <th></th>\n",
       "      <th>source</th>\n",
       "      <th>target</th>\n",
       "      <th>translation</th>\n",
       "      <th>search_result</th>\n",
       "      <th>chrf_score</th>\n",
       "      <th>bleurt</th>\n",
       "    </tr>\n",
       "  </thead>\n",
       "  <tbody>\n",
       "    <tr>\n",
       "      <th>0</th>\n",
       "      <td>Mitya Gutrin, ex-colega de Alexey e Irina, esc...</td>\n",
       "      <td>Mitya Gutrin, a former colleague of both Alexe...</td>\n",
       "      <td>Mitya Gutrin, former colleague of Alexey and I...</td>\n",
       "      <td>Marina Litvinovich (aka LJ user abstract2001) ...</td>\n",
       "      <td>0.203902</td>\n",
       "      <td>0.234253</td>\n",
       "    </tr>\n",
       "    <tr>\n",
       "      <th>1</th>\n",
       "      <td>O dinheiro raramente era devolvido e Kabanov a...</td>\n",
       "      <td>The money was rarely returned, and Kabanov gen...</td>\n",
       "      <td>The money was rarely returned and Kabanov gene...</td>\n",
       "      <td>Bribes are described as “tea money” and hardly...</td>\n",
       "      <td>0.191022</td>\n",
       "      <td>0.392822</td>\n",
       "    </tr>\n",
       "    <tr>\n",
       "      <th>2</th>\n",
       "      <td>Gutrin escreveu:</td>\n",
       "      <td>Gutrin wrote:</td>\n",
       "      <td>Gutrin wrote:</td>\n",
       "      <td>Citizen wrote:</td>\n",
       "      <td>0.478502</td>\n",
       "      <td>0.379883</td>\n",
       "    </tr>\n",
       "    <tr>\n",
       "      <th>3</th>\n",
       "      <td>Sempre pensei que há um amplo abismo entre um ...</td>\n",
       "      <td>I always thought that a hefty chasm lies betwe...</td>\n",
       "      <td>I always thought there was a wide gap between ...</td>\n",
       "      <td>It feels like ferocious potential rapists and ...</td>\n",
       "      <td>0.250354</td>\n",
       "      <td>0.454346</td>\n",
       "    </tr>\n",
       "    <tr>\n",
       "      <th>4</th>\n",
       "      <td>Agora sei que não é tão amplo quanto pensei, e...</td>\n",
       "      <td>Now I know that it isn't as large as I thought...</td>\n",
       "      <td>Now I know it's not as broad as I thought, and...</td>\n",
       "      <td>So perhaps it's not all that bad.  […]</td>\n",
       "      <td>0.117007</td>\n",
       "      <td>0.430664</td>\n",
       "    </tr>\n",
       "  </tbody>\n",
       "</table>\n",
       "</div>"
      ],
      "text/plain": [
       "                                              source  \\\n",
       "0  Mitya Gutrin, ex-colega de Alexey e Irina, esc...   \n",
       "1  O dinheiro raramente era devolvido e Kabanov a...   \n",
       "2                                   Gutrin escreveu:   \n",
       "3  Sempre pensei que há um amplo abismo entre um ...   \n",
       "4  Agora sei que não é tão amplo quanto pensei, e...   \n",
       "\n",
       "                                              target  \\\n",
       "0  Mitya Gutrin, a former colleague of both Alexe...   \n",
       "1  The money was rarely returned, and Kabanov gen...   \n",
       "2                                      Gutrin wrote:   \n",
       "3  I always thought that a hefty chasm lies betwe...   \n",
       "4  Now I know that it isn't as large as I thought...   \n",
       "\n",
       "                                         translation  \\\n",
       "0  Mitya Gutrin, former colleague of Alexey and I...   \n",
       "1  The money was rarely returned and Kabanov gene...   \n",
       "2                                      Gutrin wrote:   \n",
       "3  I always thought there was a wide gap between ...   \n",
       "4  Now I know it's not as broad as I thought, and...   \n",
       "\n",
       "                                       search_result  chrf_score    bleurt  \n",
       "0  Marina Litvinovich (aka LJ user abstract2001) ...    0.203902  0.234253  \n",
       "1  Bribes are described as “tea money” and hardly...    0.191022  0.392822  \n",
       "2                                     Citizen wrote:    0.478502  0.379883  \n",
       "3  It feels like ferocious potential rapists and ...    0.250354  0.454346  \n",
       "4             So perhaps it's not all that bad.  […]    0.117007  0.430664  "
      ]
     },
     "execution_count": 26,
     "metadata": {},
     "output_type": "execute_result"
    }
   ],
   "source": [
    "df = pd.read_csv(f'{BASE_PATH}/global_voices_pt_en_result_scored.csv', sep='\\t')\n",
    "print(df.shape)\n",
    "df.head()"
   ]
  },
  {
   "cell_type": "code",
   "execution_count": 27,
   "metadata": {},
   "outputs": [
    {
     "data": {
      "text/plain": [
       "source           0\n",
       "target           0\n",
       "translation      0\n",
       "search_result    0\n",
       "chrf_score       0\n",
       "bleurt           0\n",
       "dtype: int64"
      ]
     },
     "execution_count": 27,
     "metadata": {},
     "output_type": "execute_result"
    }
   ],
   "source": [
    "df.isna().sum()"
   ]
  },
  {
   "cell_type": "code",
   "execution_count": 28,
   "metadata": {},
   "outputs": [
    {
     "data": {
      "text/plain": [
       "(10000, 6)"
      ]
     },
     "execution_count": 28,
     "metadata": {},
     "output_type": "execute_result"
    }
   ],
   "source": [
    "df.drop_duplicates(subset=['source', 'target']).shape"
   ]
  },
  {
   "cell_type": "code",
   "execution_count": 29,
   "metadata": {},
   "outputs": [
    {
     "data": {
      "text/plain": [
       "(10000, 6)"
      ]
     },
     "execution_count": 29,
     "metadata": {},
     "output_type": "execute_result"
    }
   ],
   "source": [
    "df = treat_data(df)\n",
    "df.shape"
   ]
  },
  {
   "cell_type": "code",
   "execution_count": 30,
   "metadata": {},
   "outputs": [
    {
     "data": {
      "text/plain": [
       "count    1.000000e+04\n",
       "mean     2.526606e-01\n",
       "std      1.383117e-01\n",
       "min      1.000000e-16\n",
       "25%      1.759130e-01\n",
       "50%      2.285026e-01\n",
       "75%      2.889617e-01\n",
       "max      9.965308e-01\n",
       "Name: chrf_score, dtype: float64"
      ]
     },
     "execution_count": 30,
     "metadata": {},
     "output_type": "execute_result"
    }
   ],
   "source": [
    "df['chrf_score'].describe()"
   ]
  },
  {
   "cell_type": "code",
   "execution_count": 31,
   "metadata": {},
   "outputs": [
    {
     "data": {
      "text/plain": [
       "count    10000.000000\n",
       "mean         0.367365\n",
       "std          0.150591\n",
       "min          0.011833\n",
       "25%          0.264160\n",
       "50%          0.346924\n",
       "75%          0.443115\n",
       "max          0.973145\n",
       "Name: bleurt, dtype: float64"
      ]
     },
     "execution_count": 31,
     "metadata": {},
     "output_type": "execute_result"
    }
   ],
   "source": [
    "df['bleurt'].describe()"
   ]
  },
  {
   "cell_type": "code",
   "execution_count": 32,
   "metadata": {},
   "outputs": [
    {
     "data": {
      "text/plain": [
       "<Axes: >"
      ]
     },
     "execution_count": 32,
     "metadata": {},
     "output_type": "execute_result"
    },
    {
     "data": {
      "image/png": "[encoded data removed]",
      "text/plain": [
       "<Figure size 640x480 with 1 Axes>"
      ]
     },
     "metadata": {},
     "output_type": "display_data"
    }
   ],
   "source": [
    "df[['chrf_score', 'bleurt']].plot.box()"
   ]
  },
  {
   "cell_type": "code",
   "execution_count": 33,
   "metadata": {},
   "outputs": [],
   "source": [
    "df['dataset'] = 'Global Voices'"
   ]
  },
  {
   "cell_type": "code",
   "execution_count": 34,
   "metadata": {},
   "outputs": [
    {
     "data": {
      "text/plain": [
       "(68864, 3)"
      ]
     },
     "execution_count": 34,
     "metadata": {},
     "output_type": "execute_result"
    }
   ],
   "source": [
    "df_results = pd.concat([df_results, df[cols]])\n",
    "df_results.shape"
   ]
  },
  {
   "cell_type": "markdown",
   "metadata": {},
   "source": [
    "## United Nation"
   ]
  },
  {
   "cell_type": "code",
   "execution_count": 35,
   "metadata": {},
   "outputs": [
    {
     "name": "stdout",
     "output_type": "stream",
     "text": [
      "(10000, 6)\n"
     ]
    },
    {
     "data": {
      "text/html": [
       "<div>\n",
       "<style scoped>\n",
       "    .dataframe tbody tr th:only-of-type {\n",
       "        vertical-align: middle;\n",
       "    }\n",
       "\n",
       "    .dataframe tbody tr th {\n",
       "        vertical-align: top;\n",
       "    }\n",
       "\n",
       "    .dataframe thead th {\n",
       "        text-align: right;\n",
       "    }\n",
       "</style>\n",
       "<table border=\"1\" class=\"dataframe\">\n",
       "  <thead>\n",
       "    <tr style=\"text-align: right;\">\n",
       "      <th></th>\n",
       "      <th>source</th>\n",
       "      <th>target</th>\n",
       "      <th>translation</th>\n",
       "      <th>search_result</th>\n",
       "      <th>chrf_score</th>\n",
       "      <th>bleurt</th>\n",
       "    </tr>\n",
       "  </thead>\n",
       "  <tbody>\n",
       "    <tr>\n",
       "      <th>0</th>\n",
       "      <td>19. Maintenance services. Provision under this...</td>\n",
       "      <td>Services d’entretien. Le montant prévu à cette...</td>\n",
       "      <td>19. Services d'entretien Le montant prévu à ce...</td>\n",
       "      <td>Indemnité de subsistance (missions). Le montan...</td>\n",
       "      <td>0.773737</td>\n",
       "      <td>0.394531</td>\n",
       "    </tr>\n",
       "    <tr>\n",
       "      <th>1</th>\n",
       "      <td>Additionally, as indicated in paragraph 6 abov...</td>\n",
       "      <td>En outre, comme il a été noté plus haut au par...</td>\n",
       "      <td>En outre, comme il est indiqué au paragraphe 6...</td>\n",
       "      <td>Aux termes de ces arrangements, des dépenses c...</td>\n",
       "      <td>0.367461</td>\n",
       "      <td>0.258057</td>\n",
       "    </tr>\n",
       "    <tr>\n",
       "      <th>2</th>\n",
       "      <td>The total requirements under this heading are ...</td>\n",
       "      <td>Au total, les sommes à prévoir à cette rubriqu...</td>\n",
       "      <td>Le montant total des ressources nécessaires à ...</td>\n",
       "      <td>Les ressources nécessaires sont estimées à 826...</td>\n",
       "      <td>0.674348</td>\n",
       "      <td>0.568848</td>\n",
       "    </tr>\n",
       "    <tr>\n",
       "      <th>3</th>\n",
       "      <td>20. Utilities. Provision for utilities is base...</td>\n",
       "      <td>Éclairage, chauffage, énergie et eau. On a cal...</td>\n",
       "      <td>20. Services collectifs de distribution Les re...</td>\n",
       "      <td>Calculé sur la base d’une consommation journal...</td>\n",
       "      <td>0.273105</td>\n",
       "      <td>0.207153</td>\n",
       "    </tr>\n",
       "    <tr>\n",
       "      <th>4</th>\n",
       "      <td>The back-up power generation capacity is requi...</td>\n",
       "      <td>Les moyens de secours pour la production d’éle...</td>\n",
       "      <td>La capacité de production d'électricité de sec...</td>\n",
       "      <td>Fournitures d’entretien. Le montant prévu doit...</td>\n",
       "      <td>0.379619</td>\n",
       "      <td>0.230591</td>\n",
       "    </tr>\n",
       "  </tbody>\n",
       "</table>\n",
       "</div>"
      ],
      "text/plain": [
       "                                              source  \\\n",
       "0  19. Maintenance services. Provision under this...   \n",
       "1  Additionally, as indicated in paragraph 6 abov...   \n",
       "2  The total requirements under this heading are ...   \n",
       "3  20. Utilities. Provision for utilities is base...   \n",
       "4  The back-up power generation capacity is requi...   \n",
       "\n",
       "                                              target  \\\n",
       "0  Services d’entretien. Le montant prévu à cette...   \n",
       "1  En outre, comme il a été noté plus haut au par...   \n",
       "2  Au total, les sommes à prévoir à cette rubriqu...   \n",
       "3  Éclairage, chauffage, énergie et eau. On a cal...   \n",
       "4  Les moyens de secours pour la production d’éle...   \n",
       "\n",
       "                                         translation  \\\n",
       "0  19. Services d'entretien Le montant prévu à ce...   \n",
       "1  En outre, comme il est indiqué au paragraphe 6...   \n",
       "2  Le montant total des ressources nécessaires à ...   \n",
       "3  20. Services collectifs de distribution Les re...   \n",
       "4  La capacité de production d'électricité de sec...   \n",
       "\n",
       "                                       search_result  chrf_score    bleurt  \n",
       "0  Indemnité de subsistance (missions). Le montan...    0.773737  0.394531  \n",
       "1  Aux termes de ces arrangements, des dépenses c...    0.367461  0.258057  \n",
       "2  Les ressources nécessaires sont estimées à 826...    0.674348  0.568848  \n",
       "3  Calculé sur la base d’une consommation journal...    0.273105  0.207153  \n",
       "4  Fournitures d’entretien. Le montant prévu doit...    0.379619  0.230591  "
      ]
     },
     "execution_count": 35,
     "metadata": {},
     "output_type": "execute_result"
    }
   ],
   "source": [
    "df = pd.read_csv(f'{BASE_PATH}/united_nation_en_fr_result_scored.csv', sep='\\t')\n",
    "print(df.shape)\n",
    "df.head()"
   ]
  },
  {
   "cell_type": "code",
   "execution_count": 36,
   "metadata": {},
   "outputs": [
    {
     "data": {
      "text/plain": [
       "source           0\n",
       "target           0\n",
       "translation      0\n",
       "search_result    0\n",
       "chrf_score       0\n",
       "bleurt           0\n",
       "dtype: int64"
      ]
     },
     "execution_count": 36,
     "metadata": {},
     "output_type": "execute_result"
    }
   ],
   "source": [
    "df.isna().sum()"
   ]
  },
  {
   "cell_type": "code",
   "execution_count": 37,
   "metadata": {},
   "outputs": [
    {
     "data": {
      "text/plain": [
       "(9547, 6)"
      ]
     },
     "execution_count": 37,
     "metadata": {},
     "output_type": "execute_result"
    }
   ],
   "source": [
    "df.drop_duplicates().shape"
   ]
  },
  {
   "cell_type": "code",
   "execution_count": 38,
   "metadata": {},
   "outputs": [
    {
     "data": {
      "text/plain": [
       "(9547, 6)"
      ]
     },
     "execution_count": 38,
     "metadata": {},
     "output_type": "execute_result"
    }
   ],
   "source": [
    "df = treat_data(df)\n",
    "df.shape"
   ]
  },
  {
   "cell_type": "code",
   "execution_count": 39,
   "metadata": {},
   "outputs": [
    {
     "data": {
      "text/plain": [
       "count    9.547000e+03\n",
       "mean     3.904887e-01\n",
       "std      2.142170e-01\n",
       "min      1.000000e-16\n",
       "25%      2.562523e-01\n",
       "50%      3.274892e-01\n",
       "75%      4.435421e-01\n",
       "max      1.000000e+00\n",
       "Name: chrf_score, dtype: float64"
      ]
     },
     "execution_count": 39,
     "metadata": {},
     "output_type": "execute_result"
    }
   ],
   "source": [
    "df['chrf_score'].describe()"
   ]
  },
  {
   "cell_type": "code",
   "execution_count": 40,
   "metadata": {},
   "outputs": [
    {
     "data": {
      "text/plain": [
       "count    9547.000000\n",
       "mean        0.323887\n",
       "std         0.243464\n",
       "min        -0.069580\n",
       "25%         0.147095\n",
       "50%         0.261719\n",
       "75%         0.437866\n",
       "max         1.076172\n",
       "Name: bleurt, dtype: float64"
      ]
     },
     "execution_count": 40,
     "metadata": {},
     "output_type": "execute_result"
    }
   ],
   "source": [
    "df['bleurt'].describe()"
   ]
  },
  {
   "cell_type": "code",
   "execution_count": 41,
   "metadata": {},
   "outputs": [
    {
     "data": {
      "text/plain": [
       "<Axes: >"
      ]
     },
     "execution_count": 41,
     "metadata": {},
     "output_type": "execute_result"
    },
    {
     "data": {
      "image/png": "[encoded data removed]",
      "text/plain": [
       "<Figure size 640x480 with 1 Axes>"
      ]
     },
     "metadata": {},
     "output_type": "display_data"
    }
   ],
   "source": [
    "df[['chrf_score', 'bleurt']].plot.box()"
   ]
  },
  {
   "cell_type": "code",
   "execution_count": 42,
   "metadata": {},
   "outputs": [],
   "source": [
    "df['dataset'] = 'United Nations'"
   ]
  },
  {
   "cell_type": "code",
   "execution_count": 43,
   "metadata": {},
   "outputs": [
    {
     "data": {
      "text/plain": [
       "(78411, 3)"
      ]
     },
     "execution_count": 43,
     "metadata": {},
     "output_type": "execute_result"
    }
   ],
   "source": [
    "df_results = pd.concat([df_results, df[cols]])\n",
    "df_results.shape"
   ]
  },
  {
   "cell_type": "markdown",
   "metadata": {},
   "source": [
    "## Comparação"
   ]
  },
  {
   "cell_type": "code",
   "execution_count": 44,
   "metadata": {},
   "outputs": [
    {
     "data": {
      "text/plain": [
       "dataset\n",
       "DGT-TM            49633\n",
       "Global Voices     10000\n",
       "United Nations     9547\n",
       "KDE                9231\n",
       "Name: count, dtype: int64"
      ]
     },
     "execution_count": 44,
     "metadata": {},
     "output_type": "execute_result"
    }
   ],
   "source": [
    "df_results['dataset'].value_counts()"
   ]
  },
  {
   "cell_type": "code",
   "execution_count": 45,
   "metadata": {},
   "outputs": [
    {
     "data": {
      "text/plain": [
       "chrf_score    Axes(0.125,0.11;0.775x0.77)\n",
       "dtype: object"
      ]
     },
     "execution_count": 45,
     "metadata": {},
     "output_type": "execute_result"
    },
    {
     "data": {
      "image/png": "[encoded data removed]",
      "text/plain": [
       "<Figure size 640x480 with 1 Axes>"
      ]
     },
     "metadata": {},
     "output_type": "display_data"
    }
   ],
   "source": [
    "df_results.plot.box(column='chrf_score', by='dataset', grid=True)"
   ]
  },
  {
   "cell_type": "code",
   "execution_count": 46,
   "metadata": {},
   "outputs": [
    {
     "data": {
      "text/plain": [
       "bleurt    Axes(0.125,0.11;0.775x0.77)\n",
       "dtype: object"
      ]
     },
     "execution_count": 46,
     "metadata": {},
     "output_type": "execute_result"
    },
    {
     "data": {
      "image/png": "[encoded data removed]",
      "text/plain": [
       "<Figure size 640x480 with 1 Axes>"
      ]
     },
     "metadata": {},
     "output_type": "display_data"
    }
   ],
   "source": [
    "df_results.plot.box(column='bleurt', by='dataset', grid=True)"
   ]
  },
  {
   "cell_type": "code",
   "execution_count": 47,
   "metadata": {},
   "outputs": [
    {
     "data": {
      "text/html": [
       "<div>\n",
       "<style scoped>\n",
       "    .dataframe tbody tr th:only-of-type {\n",
       "        vertical-align: middle;\n",
       "    }\n",
       "\n",
       "    .dataframe tbody tr th {\n",
       "        vertical-align: top;\n",
       "    }\n",
       "\n",
       "    .dataframe thead tr th {\n",
       "        text-align: left;\n",
       "    }\n",
       "\n",
       "    .dataframe thead tr:last-of-type th {\n",
       "        text-align: right;\n",
       "    }\n",
       "</style>\n",
       "<table border=\"1\" class=\"dataframe\">\n",
       "  <thead>\n",
       "    <tr>\n",
       "      <th></th>\n",
       "      <th colspan=\"4\" halign=\"left\">chrf_score</th>\n",
       "      <th colspan=\"3\" halign=\"left\">bleurt</th>\n",
       "    </tr>\n",
       "    <tr>\n",
       "      <th></th>\n",
       "      <th>count</th>\n",
       "      <th>mean</th>\n",
       "      <th>max</th>\n",
       "      <th>min</th>\n",
       "      <th>mean</th>\n",
       "      <th>max</th>\n",
       "      <th>min</th>\n",
       "    </tr>\n",
       "    <tr>\n",
       "      <th>dataset</th>\n",
       "      <th></th>\n",
       "      <th></th>\n",
       "      <th></th>\n",
       "      <th></th>\n",
       "      <th></th>\n",
       "      <th></th>\n",
       "      <th></th>\n",
       "    </tr>\n",
       "  </thead>\n",
       "  <tbody>\n",
       "    <tr>\n",
       "      <th>DGT-TM</th>\n",
       "      <td>49633</td>\n",
       "      <td>0.354347</td>\n",
       "      <td>1.000000</td>\n",
       "      <td>1.000000e-16</td>\n",
       "      <td>0.352841</td>\n",
       "      <td>1.160156</td>\n",
       "      <td>-0.101501</td>\n",
       "    </tr>\n",
       "    <tr>\n",
       "      <th>Global Voices</th>\n",
       "      <td>10000</td>\n",
       "      <td>0.252661</td>\n",
       "      <td>0.996531</td>\n",
       "      <td>1.000000e-16</td>\n",
       "      <td>0.367365</td>\n",
       "      <td>0.973145</td>\n",
       "      <td>0.011833</td>\n",
       "    </tr>\n",
       "    <tr>\n",
       "      <th>KDE</th>\n",
       "      <td>9231</td>\n",
       "      <td>0.306673</td>\n",
       "      <td>1.000000</td>\n",
       "      <td>1.000000e-16</td>\n",
       "      <td>0.463424</td>\n",
       "      <td>1.165039</td>\n",
       "      <td>-0.007626</td>\n",
       "    </tr>\n",
       "    <tr>\n",
       "      <th>United Nations</th>\n",
       "      <td>9547</td>\n",
       "      <td>0.390489</td>\n",
       "      <td>1.000000</td>\n",
       "      <td>1.000000e-16</td>\n",
       "      <td>0.323887</td>\n",
       "      <td>1.076172</td>\n",
       "      <td>-0.069580</td>\n",
       "    </tr>\n",
       "  </tbody>\n",
       "</table>\n",
       "</div>"
      ],
      "text/plain": [
       "               chrf_score                                      bleurt  \\\n",
       "                    count      mean       max           min      mean   \n",
       "dataset                                                                 \n",
       "DGT-TM              49633  0.354347  1.000000  1.000000e-16  0.352841   \n",
       "Global Voices       10000  0.252661  0.996531  1.000000e-16  0.367365   \n",
       "KDE                  9231  0.306673  1.000000  1.000000e-16  0.463424   \n",
       "United Nations       9547  0.390489  1.000000  1.000000e-16  0.323887   \n",
       "\n",
       "                                    \n",
       "                     max       min  \n",
       "dataset                             \n",
       "DGT-TM          1.160156 -0.101501  \n",
       "Global Voices   0.973145  0.011833  \n",
       "KDE             1.165039 -0.007626  \n",
       "United Nations  1.076172 -0.069580  "
      ]
     },
     "execution_count": 47,
     "metadata": {},
     "output_type": "execute_result"
    }
   ],
   "source": [
    "# Computando valores das métricas por dataset\n",
    "df_results.groupby('dataset').agg({'chrf_score': ['count', 'mean', 'max', 'min'], 'bleurt': ['mean', 'max', 'min']})"
   ]
  }
 ],
 "metadata": {
  "kernelspec": {
   "display_name": "Python 3",
   "language": "python",
   "name": "python3"
  },
  "language_info": {
   "codemirror_mode": {
    "name": "ipython",
    "version": 3
   },
   "file_extension": ".py",
   "mimetype": "text/x-python",
   "name": "python",
   "nbconvert_exporter": "python",
   "pygments_lexer": "ipython3",
   "version": "3.10.13"
  }
 },
 "nbformat": 4,
 "nbformat_minor": 2
}
