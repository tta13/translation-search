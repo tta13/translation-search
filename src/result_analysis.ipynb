{
 "cells": [
  {
   "cell_type": "markdown",
   "metadata": {},
   "source": [
    "# Análise dos resultados de traduções"
   ]
  },
  {
   "cell_type": "code",
   "execution_count": 1,
   "metadata": {},
   "outputs": [],
   "source": [
    "import pandas as pd\n",
    "import matplotlib\n",
    "\n",
    "BASE_PATH = '../results'"
   ]
  },
  {
   "cell_type": "code",
   "execution_count": 2,
   "metadata": {},
   "outputs": [],
   "source": [
    "def treat_data(df, drop_dups=True, drop_na=True):\n",
    "  df = df.copy()\n",
    "  if drop_dups: df = df.drop_duplicates(subset=['source', 'target'])\n",
    "  if drop_na: df = df.dropna()\n",
    "  return df"
   ]
  },
  {
   "cell_type": "code",
   "execution_count": 3,
   "metadata": {},
   "outputs": [],
   "source": [
    "cols = ['dataset', 'source', 'target', 'search_result', 'chrf_score', 'bleurt']\n",
    "df_results = pd.DataFrame(columns=cols)\n",
    "df_results_e5 = pd.DataFrame(columns=cols)"
   ]
  },
  {
   "cell_type": "code",
   "execution_count": 4,
   "metadata": {},
   "outputs": [],
   "source": [
    "RANDOM_STATE=42"
   ]
  },
  {
   "cell_type": "markdown",
   "metadata": {},
   "source": [
    "## DGT-TM"
   ]
  },
  {
   "cell_type": "code",
   "execution_count": 5,
   "metadata": {},
   "outputs": [
    {
     "name": "stdout",
     "output_type": "stream",
     "text": [
      "(51185, 6)\n"
     ]
    },
    {
     "data": {
      "text/html": [
       "<div>\n",
       "<style scoped>\n",
       "    .dataframe tbody tr th:only-of-type {\n",
       "        vertical-align: middle;\n",
       "    }\n",
       "\n",
       "    .dataframe tbody tr th {\n",
       "        vertical-align: top;\n",
       "    }\n",
       "\n",
       "    .dataframe thead th {\n",
       "        text-align: right;\n",
       "    }\n",
       "</style>\n",
       "<table border=\"1\" class=\"dataframe\">\n",
       "  <thead>\n",
       "    <tr style=\"text-align: right;\">\n",
       "      <th></th>\n",
       "      <th>source</th>\n",
       "      <th>target</th>\n",
       "      <th>translation</th>\n",
       "      <th>search_result</th>\n",
       "      <th>chrf_score</th>\n",
       "      <th>bleurt</th>\n",
       "    </tr>\n",
       "  </thead>\n",
       "  <tbody>\n",
       "    <tr>\n",
       "      <th>0</th>\n",
       "      <td>Commission Decision (EU) 2019/293</td>\n",
       "      <td>Decisión (UE) 2019/293 de la Comisión</td>\n",
       "      <td>Decisión (UE) 2019/293 de la Comisión</td>\n",
       "      <td>Decisión (UE) 2018/393 de la Comisión</td>\n",
       "      <td>0.814768</td>\n",
       "      <td>0.791992</td>\n",
       "    </tr>\n",
       "    <tr>\n",
       "      <th>1</th>\n",
       "      <td>of 8 November 2018</td>\n",
       "      <td>de 8 de noviembre de 2018</td>\n",
       "      <td>de 8 de noviembre de 2018</td>\n",
       "      <td>de 8 de noviembre de 2018</td>\n",
       "      <td>1.000000</td>\n",
       "      <td>0.968262</td>\n",
       "    </tr>\n",
       "    <tr>\n",
       "      <th>2</th>\n",
       "      <td>on the State aid SA.43785 (2018/C) (ex 2015/PN...</td>\n",
       "      <td>relativa a la ayuda estatal SA.43785 (2018/C) ...</td>\n",
       "      <td>relativa a la ayuda estatal SA.43785 (2018/C) ...</td>\n",
       "      <td>relativa a la ayuda estatal SA.34308 (2013/C) ...</td>\n",
       "      <td>0.414245</td>\n",
       "      <td>0.391357</td>\n",
       "    </tr>\n",
       "    <tr>\n",
       "      <th>3</th>\n",
       "      <td>(notified under document C(2018) 7308)</td>\n",
       "      <td>[notificada con el número C(2018) 7308]</td>\n",
       "      <td>[notificada con el número C(2018) 7308]</td>\n",
       "      <td>[notificada con el número C(2018) 7304]</td>\n",
       "      <td>0.941222</td>\n",
       "      <td>0.968262</td>\n",
       "    </tr>\n",
       "    <tr>\n",
       "      <th>4</th>\n",
       "      <td>(Only the Romanian text is authentic)</td>\n",
       "      <td>(El texto en lengua rumana es el único auténtico)</td>\n",
       "      <td>(El texto en lengua rumana es el único auténtico)</td>\n",
       "      <td>(El texto en lengua rumana es el único auténtico)</td>\n",
       "      <td>1.000000</td>\n",
       "      <td>1.021484</td>\n",
       "    </tr>\n",
       "  </tbody>\n",
       "</table>\n",
       "</div>"
      ],
      "text/plain": [
       "                                              source  \\\n",
       "0                  Commission Decision (EU) 2019/293   \n",
       "1                                 of 8 November 2018   \n",
       "2  on the State aid SA.43785 (2018/C) (ex 2015/PN...   \n",
       "3             (notified under document C(2018) 7308)   \n",
       "4              (Only the Romanian text is authentic)   \n",
       "\n",
       "                                              target  \\\n",
       "0              Decisión (UE) 2019/293 de la Comisión   \n",
       "1                          de 8 de noviembre de 2018   \n",
       "2  relativa a la ayuda estatal SA.43785 (2018/C) ...   \n",
       "3            [notificada con el número C(2018) 7308]   \n",
       "4  (El texto en lengua rumana es el único auténtico)   \n",
       "\n",
       "                                         translation  \\\n",
       "0              Decisión (UE) 2019/293 de la Comisión   \n",
       "1                          de 8 de noviembre de 2018   \n",
       "2  relativa a la ayuda estatal SA.43785 (2018/C) ...   \n",
       "3            [notificada con el número C(2018) 7308]   \n",
       "4  (El texto en lengua rumana es el único auténtico)   \n",
       "\n",
       "                                       search_result  chrf_score    bleurt  \n",
       "0              Decisión (UE) 2018/393 de la Comisión    0.814768  0.791992  \n",
       "1                          de 8 de noviembre de 2018    1.000000  0.968262  \n",
       "2  relativa a la ayuda estatal SA.34308 (2013/C) ...    0.414245  0.391357  \n",
       "3            [notificada con el número C(2018) 7304]    0.941222  0.968262  \n",
       "4  (El texto en lengua rumana es el único auténtico)    1.000000  1.021484  "
      ]
     },
     "execution_count": 5,
     "metadata": {},
     "output_type": "execute_result"
    }
   ],
   "source": [
    "df = pd.read_csv(f'{BASE_PATH}/dgt_tm_en_es_result_scored.csv', sep='\\t')\n",
    "print(df.shape)\n",
    "df.head()"
   ]
  },
  {
   "cell_type": "code",
   "execution_count": 6,
   "metadata": {},
   "outputs": [
    {
     "data": {
      "text/plain": [
       "(49635, 6)"
      ]
     },
     "execution_count": 6,
     "metadata": {},
     "output_type": "execute_result"
    }
   ],
   "source": [
    "df.drop_duplicates().shape"
   ]
  },
  {
   "cell_type": "code",
   "execution_count": 7,
   "metadata": {},
   "outputs": [
    {
     "data": {
      "text/plain": [
       "source           2\n",
       "target           0\n",
       "translation      0\n",
       "search_result    0\n",
       "chrf_score       0\n",
       "bleurt           0\n",
       "dtype: int64"
      ]
     },
     "execution_count": 7,
     "metadata": {},
     "output_type": "execute_result"
    }
   ],
   "source": [
    "df.isna().sum()"
   ]
  },
  {
   "cell_type": "code",
   "execution_count": 8,
   "metadata": {},
   "outputs": [
    {
     "data": {
      "text/html": [
       "<div>\n",
       "<style scoped>\n",
       "    .dataframe tbody tr th:only-of-type {\n",
       "        vertical-align: middle;\n",
       "    }\n",
       "\n",
       "    .dataframe tbody tr th {\n",
       "        vertical-align: top;\n",
       "    }\n",
       "\n",
       "    .dataframe thead th {\n",
       "        text-align: right;\n",
       "    }\n",
       "</style>\n",
       "<table border=\"1\" class=\"dataframe\">\n",
       "  <thead>\n",
       "    <tr style=\"text-align: right;\">\n",
       "      <th></th>\n",
       "      <th>source</th>\n",
       "      <th>target</th>\n",
       "      <th>translation</th>\n",
       "      <th>search_result</th>\n",
       "      <th>chrf_score</th>\n",
       "      <th>bleurt</th>\n",
       "    </tr>\n",
       "  </thead>\n",
       "  <tbody>\n",
       "    <tr>\n",
       "      <th>3863</th>\n",
       "      <td>NaN</td>\n",
       "      <td>N/D</td>\n",
       "      <td>N/D</td>\n",
       "      <td>S/N</td>\n",
       "      <td>0.111111</td>\n",
       "      <td>0.402100</td>\n",
       "    </tr>\n",
       "    <tr>\n",
       "      <th>35684</th>\n",
       "      <td>NaN</td>\n",
       "      <td>n/d</td>\n",
       "      <td>n.a.</td>\n",
       "      <td>n.d.</td>\n",
       "      <td>0.107527</td>\n",
       "      <td>0.662598</td>\n",
       "    </tr>\n",
       "  </tbody>\n",
       "</table>\n",
       "</div>"
      ],
      "text/plain": [
       "      source target translation search_result  chrf_score    bleurt\n",
       "3863     NaN    N/D         N/D           S/N    0.111111  0.402100\n",
       "35684    NaN    n/d        n.a.          n.d.    0.107527  0.662598"
      ]
     },
     "execution_count": 8,
     "metadata": {},
     "output_type": "execute_result"
    }
   ],
   "source": [
    "df.loc[df['source'].isna()]"
   ]
  },
  {
   "cell_type": "code",
   "execution_count": 9,
   "metadata": {},
   "outputs": [
    {
     "data": {
      "text/plain": [
       "(49633, 6)"
      ]
     },
     "execution_count": 9,
     "metadata": {},
     "output_type": "execute_result"
    }
   ],
   "source": [
    "df = treat_data(df)\n",
    "df.shape"
   ]
  },
  {
   "cell_type": "code",
   "execution_count": 10,
   "metadata": {},
   "outputs": [
    {
     "data": {
      "text/plain": [
       "count    49633.000000\n",
       "mean         0.354347\n",
       "std          0.221355\n",
       "min          0.000000\n",
       "25%          0.222727\n",
       "50%          0.305714\n",
       "75%          0.404218\n",
       "max          1.000000\n",
       "Name: chrf_score, dtype: object"
      ]
     },
     "execution_count": 10,
     "metadata": {},
     "output_type": "execute_result"
    }
   ],
   "source": [
    "df['chrf_score'].describe().apply(\"{0:.6f}\".format)"
   ]
  },
  {
   "cell_type": "code",
   "execution_count": 11,
   "metadata": {},
   "outputs": [
    {
     "data": {
      "text/plain": [
       "count    49633.000000\n",
       "mean         0.352841\n",
       "std          0.230898\n",
       "min         -0.101501\n",
       "25%          0.199463\n",
       "50%          0.282715\n",
       "75%          0.432373\n",
       "max          1.160156\n",
       "Name: bleurt, dtype: object"
      ]
     },
     "execution_count": 11,
     "metadata": {},
     "output_type": "execute_result"
    }
   ],
   "source": [
    "df['bleurt'].describe().apply(\"{0:.6f}\".format)"
   ]
  },
  {
   "cell_type": "code",
   "execution_count": 12,
   "metadata": {},
   "outputs": [
    {
     "data": {
      "text/plain": [
       "<Axes: >"
      ]
     },
     "execution_count": 12,
     "metadata": {},
     "output_type": "execute_result"
    },
    {
     "data": {
      "image/png": "[encoded data removed]",
      "text/plain": [
       "<Figure size 640x480 with 1 Axes>"
      ]
     },
     "metadata": {},
     "output_type": "display_data"
    }
   ],
   "source": [
    "df[['chrf_score', 'bleurt']].plot.box()"
   ]
  },
  {
   "cell_type": "code",
   "execution_count": 13,
   "metadata": {},
   "outputs": [],
   "source": [
    "df['dataset'] = 'DGT-TM'"
   ]
  },
  {
   "cell_type": "code",
   "execution_count": 14,
   "metadata": {},
   "outputs": [
    {
     "data": {
      "text/plain": [
       "(49633, 6)"
      ]
     },
     "execution_count": 14,
     "metadata": {},
     "output_type": "execute_result"
    }
   ],
   "source": [
    "df_results = df[cols]\n",
    "df_results.shape"
   ]
  },
  {
   "cell_type": "markdown",
   "metadata": {},
   "source": [
    "## DGT-TM - e5-base"
   ]
  },
  {
   "cell_type": "code",
   "execution_count": 15,
   "metadata": {},
   "outputs": [
    {
     "name": "stdout",
     "output_type": "stream",
     "text": [
      "(49634, 5)\n"
     ]
    },
    {
     "data": {
      "text/html": [
       "<div>\n",
       "<style scoped>\n",
       "    .dataframe tbody tr th:only-of-type {\n",
       "        vertical-align: middle;\n",
       "    }\n",
       "\n",
       "    .dataframe tbody tr th {\n",
       "        vertical-align: top;\n",
       "    }\n",
       "\n",
       "    .dataframe thead th {\n",
       "        text-align: right;\n",
       "    }\n",
       "</style>\n",
       "<table border=\"1\" class=\"dataframe\">\n",
       "  <thead>\n",
       "    <tr style=\"text-align: right;\">\n",
       "      <th></th>\n",
       "      <th>source</th>\n",
       "      <th>target</th>\n",
       "      <th>search_result</th>\n",
       "      <th>chrf_score</th>\n",
       "      <th>bleurt</th>\n",
       "    </tr>\n",
       "  </thead>\n",
       "  <tbody>\n",
       "    <tr>\n",
       "      <th>0</th>\n",
       "      <td>Commission Decision (EU) 2019/293</td>\n",
       "      <td>Decisión (UE) 2019/293 de la Comisión</td>\n",
       "      <td>Decisión (UE) 2018/993 de la Comisión</td>\n",
       "      <td>0.819976</td>\n",
       "      <td>0.734863</td>\n",
       "    </tr>\n",
       "    <tr>\n",
       "      <th>1</th>\n",
       "      <td>of 8 November 2018</td>\n",
       "      <td>de 8 de noviembre de 2018</td>\n",
       "      <td>de 8 de noviembre de 2018</td>\n",
       "      <td>1.000000</td>\n",
       "      <td>0.968262</td>\n",
       "    </tr>\n",
       "    <tr>\n",
       "      <th>2</th>\n",
       "      <td>on the State aid SA.43785 (2018/C) (ex 2015/PN...</td>\n",
       "      <td>relativa a la ayuda estatal SA.43785 (2018/C) ...</td>\n",
       "      <td>relativa a la ayuda estatal SA.34308 (2013/C) ...</td>\n",
       "      <td>0.414245</td>\n",
       "      <td>0.391357</td>\n",
       "    </tr>\n",
       "    <tr>\n",
       "      <th>3</th>\n",
       "      <td>(notified under document C(2018) 7308)</td>\n",
       "      <td>[notificada con el número C(2018) 7308]</td>\n",
       "      <td>[notificada con el número C(2018) 1208]</td>\n",
       "      <td>0.870816</td>\n",
       "      <td>0.730469</td>\n",
       "    </tr>\n",
       "    <tr>\n",
       "      <th>4</th>\n",
       "      <td>(Only the Romanian text is authentic)</td>\n",
       "      <td>(El texto en lengua rumana es el único auténtico)</td>\n",
       "      <td>(El texto en lengua rumana es el único auténtico)</td>\n",
       "      <td>1.000000</td>\n",
       "      <td>1.021484</td>\n",
       "    </tr>\n",
       "  </tbody>\n",
       "</table>\n",
       "</div>"
      ],
      "text/plain": [
       "                                              source  \\\n",
       "0                  Commission Decision (EU) 2019/293   \n",
       "1                                 of 8 November 2018   \n",
       "2  on the State aid SA.43785 (2018/C) (ex 2015/PN...   \n",
       "3             (notified under document C(2018) 7308)   \n",
       "4              (Only the Romanian text is authentic)   \n",
       "\n",
       "                                              target  \\\n",
       "0              Decisión (UE) 2019/293 de la Comisión   \n",
       "1                          de 8 de noviembre de 2018   \n",
       "2  relativa a la ayuda estatal SA.43785 (2018/C) ...   \n",
       "3            [notificada con el número C(2018) 7308]   \n",
       "4  (El texto en lengua rumana es el único auténtico)   \n",
       "\n",
       "                                       search_result  chrf_score    bleurt  \n",
       "0              Decisión (UE) 2018/993 de la Comisión    0.819976  0.734863  \n",
       "1                          de 8 de noviembre de 2018    1.000000  0.968262  \n",
       "2  relativa a la ayuda estatal SA.34308 (2013/C) ...    0.414245  0.391357  \n",
       "3            [notificada con el número C(2018) 1208]    0.870816  0.730469  \n",
       "4  (El texto en lengua rumana es el único auténtico)    1.000000  1.021484  "
      ]
     },
     "execution_count": 15,
     "metadata": {},
     "output_type": "execute_result"
    }
   ],
   "source": [
    "df = pd.read_csv(f'{BASE_PATH}/dgt_tm_en_es_result_e5_scored.csv', sep='\\t')\n",
    "print(df.shape)\n",
    "df.head()"
   ]
  },
  {
   "cell_type": "code",
   "execution_count": 16,
   "metadata": {},
   "outputs": [
    {
     "data": {
      "text/plain": [
       "(49634, 5)"
      ]
     },
     "execution_count": 16,
     "metadata": {},
     "output_type": "execute_result"
    }
   ],
   "source": [
    "df.drop_duplicates().shape"
   ]
  },
  {
   "cell_type": "code",
   "execution_count": 17,
   "metadata": {},
   "outputs": [
    {
     "data": {
      "text/plain": [
       "source           2\n",
       "target           0\n",
       "search_result    0\n",
       "chrf_score       0\n",
       "bleurt           0\n",
       "dtype: int64"
      ]
     },
     "execution_count": 17,
     "metadata": {},
     "output_type": "execute_result"
    }
   ],
   "source": [
    "df.isna().sum()"
   ]
  },
  {
   "cell_type": "code",
   "execution_count": 18,
   "metadata": {},
   "outputs": [
    {
     "data": {
      "text/html": [
       "<div>\n",
       "<style scoped>\n",
       "    .dataframe tbody tr th:only-of-type {\n",
       "        vertical-align: middle;\n",
       "    }\n",
       "\n",
       "    .dataframe tbody tr th {\n",
       "        vertical-align: top;\n",
       "    }\n",
       "\n",
       "    .dataframe thead th {\n",
       "        text-align: right;\n",
       "    }\n",
       "</style>\n",
       "<table border=\"1\" class=\"dataframe\">\n",
       "  <thead>\n",
       "    <tr style=\"text-align: right;\">\n",
       "      <th></th>\n",
       "      <th>source</th>\n",
       "      <th>target</th>\n",
       "      <th>search_result</th>\n",
       "      <th>chrf_score</th>\n",
       "      <th>bleurt</th>\n",
       "    </tr>\n",
       "  </thead>\n",
       "  <tbody>\n",
       "    <tr>\n",
       "      <th>3746</th>\n",
       "      <td>NaN</td>\n",
       "      <td>N/D</td>\n",
       "      <td>S/N</td>\n",
       "      <td>0.111111</td>\n",
       "      <td>0.402100</td>\n",
       "    </tr>\n",
       "    <tr>\n",
       "      <th>34603</th>\n",
       "      <td>NaN</td>\n",
       "      <td>n/d</td>\n",
       "      <td>N.o/año</td>\n",
       "      <td>0.049020</td>\n",
       "      <td>0.353516</td>\n",
       "    </tr>\n",
       "  </tbody>\n",
       "</table>\n",
       "</div>"
      ],
      "text/plain": [
       "      source target search_result  chrf_score    bleurt\n",
       "3746     NaN    N/D           S/N    0.111111  0.402100\n",
       "34603    NaN    n/d       N.o/año    0.049020  0.353516"
      ]
     },
     "execution_count": 18,
     "metadata": {},
     "output_type": "execute_result"
    }
   ],
   "source": [
    "df.loc[df['source'].isna()]"
   ]
  },
  {
   "cell_type": "code",
   "execution_count": 19,
   "metadata": {},
   "outputs": [
    {
     "data": {
      "text/plain": [
       "(49632, 5)"
      ]
     },
     "execution_count": 19,
     "metadata": {},
     "output_type": "execute_result"
    }
   ],
   "source": [
    "df = treat_data(df)\n",
    "df.shape"
   ]
  },
  {
   "cell_type": "code",
   "execution_count": 20,
   "metadata": {},
   "outputs": [
    {
     "data": {
      "text/plain": [
       "count    49632.000000\n",
       "mean         0.321946\n",
       "std          0.219359\n",
       "min          0.000000\n",
       "25%          0.193001\n",
       "50%          0.276065\n",
       "75%          0.375466\n",
       "max          1.000000\n",
       "Name: chrf_score, dtype: object"
      ]
     },
     "execution_count": 20,
     "metadata": {},
     "output_type": "execute_result"
    }
   ],
   "source": [
    "df['chrf_score'].describe().apply(\"{0:.6f}\".format)"
   ]
  },
  {
   "cell_type": "code",
   "execution_count": 21,
   "metadata": {},
   "outputs": [
    {
     "data": {
      "text/plain": [
       "count    49632.000000\n",
       "mean         0.335998\n",
       "std          0.223529\n",
       "min         -0.092651\n",
       "25%          0.191895\n",
       "50%          0.274414\n",
       "75%          0.406311\n",
       "max          1.160156\n",
       "Name: bleurt, dtype: object"
      ]
     },
     "execution_count": 21,
     "metadata": {},
     "output_type": "execute_result"
    }
   ],
   "source": [
    "df['bleurt'].describe().apply(\"{0:.6f}\".format)"
   ]
  },
  {
   "cell_type": "code",
   "execution_count": 22,
   "metadata": {},
   "outputs": [
    {
     "data": {
      "text/plain": [
       "<Axes: >"
      ]
     },
     "execution_count": 22,
     "metadata": {},
     "output_type": "execute_result"
    },
    {
     "data": {
      "image/png": "[encoded data removed]",
      "text/plain": [
       "<Figure size 640x480 with 1 Axes>"
      ]
     },
     "metadata": {},
     "output_type": "display_data"
    }
   ],
   "source": [
    "df[['chrf_score', 'bleurt']].plot.box()"
   ]
  },
  {
   "cell_type": "code",
   "execution_count": 23,
   "metadata": {},
   "outputs": [],
   "source": [
    "df['dataset'] = 'DGT-TM'"
   ]
  },
  {
   "cell_type": "code",
   "execution_count": 24,
   "metadata": {},
   "outputs": [
    {
     "data": {
      "text/plain": [
       "(49632, 6)"
      ]
     },
     "execution_count": 24,
     "metadata": {},
     "output_type": "execute_result"
    }
   ],
   "source": [
    "df_results_e5 = df[cols]\n",
    "df_results_e5.shape"
   ]
  },
  {
   "cell_type": "markdown",
   "metadata": {},
   "source": [
    "## KDE"
   ]
  },
  {
   "cell_type": "code",
   "execution_count": 25,
   "metadata": {},
   "outputs": [
    {
     "name": "stdout",
     "output_type": "stream",
     "text": [
      "(9543, 6)\n"
     ]
    },
    {
     "data": {
      "text/html": [
       "<div>\n",
       "<style scoped>\n",
       "    .dataframe tbody tr th:only-of-type {\n",
       "        vertical-align: middle;\n",
       "    }\n",
       "\n",
       "    .dataframe tbody tr th {\n",
       "        vertical-align: top;\n",
       "    }\n",
       "\n",
       "    .dataframe thead th {\n",
       "        text-align: right;\n",
       "    }\n",
       "</style>\n",
       "<table border=\"1\" class=\"dataframe\">\n",
       "  <thead>\n",
       "    <tr style=\"text-align: right;\">\n",
       "      <th></th>\n",
       "      <th>source</th>\n",
       "      <th>target</th>\n",
       "      <th>translation</th>\n",
       "      <th>search_result</th>\n",
       "      <th>chrf_score</th>\n",
       "      <th>bleurt</th>\n",
       "    </tr>\n",
       "  </thead>\n",
       "  <tbody>\n",
       "    <tr>\n",
       "      <th>0</th>\n",
       "      <td>Telefon@item:inlistbox</td>\n",
       "      <td>Telephone</td>\n",
       "      <td>Telephone</td>\n",
       "      <td>Telephone</td>\n",
       "      <td>1.000000</td>\n",
       "      <td>0.835449</td>\n",
       "    </tr>\n",
       "    <tr>\n",
       "      <th>1</th>\n",
       "      <td>Helikopter@item:inlistbox</td>\n",
       "      <td>Helicopter</td>\n",
       "      <td>Helicopter</td>\n",
       "      <td>Helicopter</td>\n",
       "      <td>1.000000</td>\n",
       "      <td>0.586426</td>\n",
       "    </tr>\n",
       "    <tr>\n",
       "      <th>2</th>\n",
       "      <td>Applaus@item:inlistbox</td>\n",
       "      <td>Applause</td>\n",
       "      <td>Let's hear it.</td>\n",
       "      <td>Listen To</td>\n",
       "      <td>0.041667</td>\n",
       "      <td>0.057739</td>\n",
       "    </tr>\n",
       "    <tr>\n",
       "      <th>3</th>\n",
       "      <td>Gewehrschuss@item:inlistbox</td>\n",
       "      <td>Gunshot</td>\n",
       "      <td>Gunshot</td>\n",
       "      <td>Gunshot</td>\n",
       "      <td>1.000000</td>\n",
       "      <td>0.928711</td>\n",
       "    </tr>\n",
       "    <tr>\n",
       "      <th>4</th>\n",
       "      <td>Perkussion %1</td>\n",
       "      <td>Percussion %1</td>\n",
       "      <td>Percussion %1</td>\n",
       "      <td>Slide %1</td>\n",
       "      <td>0.073844</td>\n",
       "      <td>0.302490</td>\n",
       "    </tr>\n",
       "  </tbody>\n",
       "</table>\n",
       "</div>"
      ],
      "text/plain": [
       "                        source         target     translation search_result  \\\n",
       "0       Telefon@item:inlistbox      Telephone       Telephone     Telephone   \n",
       "1    Helikopter@item:inlistbox     Helicopter      Helicopter    Helicopter   \n",
       "2       Applaus@item:inlistbox       Applause  Let's hear it.     Listen To   \n",
       "3  Gewehrschuss@item:inlistbox        Gunshot         Gunshot       Gunshot   \n",
       "4                Perkussion %1  Percussion %1   Percussion %1      Slide %1   \n",
       "\n",
       "   chrf_score    bleurt  \n",
       "0    1.000000  0.835449  \n",
       "1    1.000000  0.586426  \n",
       "2    0.041667  0.057739  \n",
       "3    1.000000  0.928711  \n",
       "4    0.073844  0.302490  "
      ]
     },
     "execution_count": 25,
     "metadata": {},
     "output_type": "execute_result"
    }
   ],
   "source": [
    "df = pd.read_csv(f'{BASE_PATH}/kde_de_en_result_scored.csv', sep='\\t')\n",
    "print(df.shape)\n",
    "df.head()"
   ]
  },
  {
   "cell_type": "code",
   "execution_count": 26,
   "metadata": {},
   "outputs": [
    {
     "data": {
      "text/plain": [
       "source           1\n",
       "target           0\n",
       "translation      0\n",
       "search_result    0\n",
       "chrf_score       0\n",
       "bleurt           0\n",
       "dtype: int64"
      ]
     },
     "execution_count": 26,
     "metadata": {},
     "output_type": "execute_result"
    }
   ],
   "source": [
    "df.isna().sum()"
   ]
  },
  {
   "cell_type": "code",
   "execution_count": 27,
   "metadata": {},
   "outputs": [
    {
     "data": {
      "text/plain": [
       "(9232, 6)"
      ]
     },
     "execution_count": 27,
     "metadata": {},
     "output_type": "execute_result"
    }
   ],
   "source": [
    "df.drop_duplicates().shape"
   ]
  },
  {
   "cell_type": "code",
   "execution_count": 28,
   "metadata": {},
   "outputs": [
    {
     "data": {
      "text/plain": [
       "(9231, 6)"
      ]
     },
     "execution_count": 28,
     "metadata": {},
     "output_type": "execute_result"
    }
   ],
   "source": [
    "df = treat_data(df)\n",
    "df.shape"
   ]
  },
  {
   "cell_type": "code",
   "execution_count": 29,
   "metadata": {},
   "outputs": [
    {
     "data": {
      "text/plain": [
       "count    9.231000e+03\n",
       "mean     3.066734e-01\n",
       "std      2.364068e-01\n",
       "min      1.000000e-16\n",
       "25%      1.349064e-01\n",
       "50%      2.430093e-01\n",
       "75%      3.993350e-01\n",
       "max      1.000000e+00\n",
       "Name: chrf_score, dtype: float64"
      ]
     },
     "execution_count": 29,
     "metadata": {},
     "output_type": "execute_result"
    }
   ],
   "source": [
    "df['chrf_score'].describe()"
   ]
  },
  {
   "cell_type": "code",
   "execution_count": 30,
   "metadata": {},
   "outputs": [
    {
     "data": {
      "text/plain": [
       "count    9231.000000\n",
       "mean        0.463424\n",
       "std         0.217540\n",
       "min        -0.007626\n",
       "25%         0.323608\n",
       "50%         0.446777\n",
       "75%         0.600098\n",
       "max         1.165039\n",
       "Name: bleurt, dtype: float64"
      ]
     },
     "execution_count": 30,
     "metadata": {},
     "output_type": "execute_result"
    }
   ],
   "source": [
    "df['bleurt'].describe()"
   ]
  },
  {
   "cell_type": "code",
   "execution_count": 31,
   "metadata": {},
   "outputs": [
    {
     "data": {
      "text/plain": [
       "<Axes: >"
      ]
     },
     "execution_count": 31,
     "metadata": {},
     "output_type": "execute_result"
    },
    {
     "data": {
      "image/png": "[encoded data removed]",
      "text/plain": [
       "<Figure size 640x480 with 1 Axes>"
      ]
     },
     "metadata": {},
     "output_type": "display_data"
    }
   ],
   "source": [
    "df[['chrf_score', 'bleurt']].plot.box()"
   ]
  },
  {
   "cell_type": "code",
   "execution_count": 32,
   "metadata": {},
   "outputs": [],
   "source": [
    "df['dataset'] = 'KDE'"
   ]
  },
  {
   "cell_type": "code",
   "execution_count": 33,
   "metadata": {},
   "outputs": [
    {
     "data": {
      "text/plain": [
       "(58864, 6)"
      ]
     },
     "execution_count": 33,
     "metadata": {},
     "output_type": "execute_result"
    }
   ],
   "source": [
    "df_results = pd.concat([df_results, df[cols]])\n",
    "df_results.shape"
   ]
  },
  {
   "cell_type": "markdown",
   "metadata": {},
   "source": [
    "## KDE - e5"
   ]
  },
  {
   "cell_type": "code",
   "execution_count": 34,
   "metadata": {},
   "outputs": [
    {
     "name": "stdout",
     "output_type": "stream",
     "text": [
      "(9231, 5)\n"
     ]
    },
    {
     "data": {
      "text/html": [
       "<div>\n",
       "<style scoped>\n",
       "    .dataframe tbody tr th:only-of-type {\n",
       "        vertical-align: middle;\n",
       "    }\n",
       "\n",
       "    .dataframe tbody tr th {\n",
       "        vertical-align: top;\n",
       "    }\n",
       "\n",
       "    .dataframe thead th {\n",
       "        text-align: right;\n",
       "    }\n",
       "</style>\n",
       "<table border=\"1\" class=\"dataframe\">\n",
       "  <thead>\n",
       "    <tr style=\"text-align: right;\">\n",
       "      <th></th>\n",
       "      <th>source</th>\n",
       "      <th>target</th>\n",
       "      <th>search_result</th>\n",
       "      <th>chrf_score</th>\n",
       "      <th>bleurt</th>\n",
       "    </tr>\n",
       "  </thead>\n",
       "  <tbody>\n",
       "    <tr>\n",
       "      <th>0</th>\n",
       "      <td>Telefon@item:inlistbox</td>\n",
       "      <td>Telephone</td>\n",
       "      <td>inbox:</td>\n",
       "      <td>3.831418e-02</td>\n",
       "      <td>0.037323</td>\n",
       "    </tr>\n",
       "    <tr>\n",
       "      <th>1</th>\n",
       "      <td>Helikopter@item:inlistbox</td>\n",
       "      <td>Helicopter</td>\n",
       "      <td>Helicopter</td>\n",
       "      <td>1.000000e+00</td>\n",
       "      <td>0.586426</td>\n",
       "    </tr>\n",
       "    <tr>\n",
       "      <th>2</th>\n",
       "      <td>Applaus@item:inlistbox</td>\n",
       "      <td>Applause</td>\n",
       "      <td>inbox:</td>\n",
       "      <td>1.000000e-16</td>\n",
       "      <td>0.042786</td>\n",
       "    </tr>\n",
       "    <tr>\n",
       "      <th>3</th>\n",
       "      <td>Gewehrschuss@item:inlistbox</td>\n",
       "      <td>Gunshot</td>\n",
       "      <td>Bulleted List - \\\\begin{itemize}</td>\n",
       "      <td>7.246377e-02</td>\n",
       "      <td>0.056854</td>\n",
       "    </tr>\n",
       "    <tr>\n",
       "      <th>4</th>\n",
       "      <td>Perkussion %1</td>\n",
       "      <td>Percussion %1</td>\n",
       "      <td>Prompting %1</td>\n",
       "      <td>1.133297e-01</td>\n",
       "      <td>0.409180</td>\n",
       "    </tr>\n",
       "  </tbody>\n",
       "</table>\n",
       "</div>"
      ],
      "text/plain": [
       "                        source         target  \\\n",
       "0       Telefon@item:inlistbox      Telephone   \n",
       "1    Helikopter@item:inlistbox     Helicopter   \n",
       "2       Applaus@item:inlistbox       Applause   \n",
       "3  Gewehrschuss@item:inlistbox        Gunshot   \n",
       "4                Perkussion %1  Percussion %1   \n",
       "\n",
       "                      search_result    chrf_score    bleurt  \n",
       "0                            inbox:  3.831418e-02  0.037323  \n",
       "1                        Helicopter  1.000000e+00  0.586426  \n",
       "2                            inbox:  1.000000e-16  0.042786  \n",
       "3  Bulleted List - \\\\begin{itemize}  7.246377e-02  0.056854  \n",
       "4                      Prompting %1  1.133297e-01  0.409180  "
      ]
     },
     "execution_count": 34,
     "metadata": {},
     "output_type": "execute_result"
    }
   ],
   "source": [
    "df = pd.read_csv(f'{BASE_PATH}/kde_de_en_result_e5_scored.csv', sep='\\t')\n",
    "print(df.shape)\n",
    "df.head()"
   ]
  },
  {
   "cell_type": "code",
   "execution_count": 35,
   "metadata": {},
   "outputs": [
    {
     "data": {
      "text/plain": [
       "source           0\n",
       "target           0\n",
       "search_result    0\n",
       "chrf_score       0\n",
       "bleurt           0\n",
       "dtype: int64"
      ]
     },
     "execution_count": 35,
     "metadata": {},
     "output_type": "execute_result"
    }
   ],
   "source": [
    "df.isna().sum()"
   ]
  },
  {
   "cell_type": "code",
   "execution_count": 36,
   "metadata": {},
   "outputs": [
    {
     "data": {
      "text/plain": [
       "(9231, 5)"
      ]
     },
     "execution_count": 36,
     "metadata": {},
     "output_type": "execute_result"
    }
   ],
   "source": [
    "df.drop_duplicates().shape"
   ]
  },
  {
   "cell_type": "code",
   "execution_count": 37,
   "metadata": {},
   "outputs": [
    {
     "data": {
      "text/plain": [
       "(9231, 5)"
      ]
     },
     "execution_count": 37,
     "metadata": {},
     "output_type": "execute_result"
    }
   ],
   "source": [
    "df = treat_data(df)\n",
    "df.shape"
   ]
  },
  {
   "cell_type": "code",
   "execution_count": 38,
   "metadata": {},
   "outputs": [
    {
     "data": {
      "text/plain": [
       "count    9.231000e+03\n",
       "mean     2.391584e-01\n",
       "std      2.171548e-01\n",
       "min      1.000000e-16\n",
       "25%      8.839471e-02\n",
       "50%      1.685101e-01\n",
       "75%      3.123581e-01\n",
       "max      1.000000e+00\n",
       "Name: chrf_score, dtype: float64"
      ]
     },
     "execution_count": 38,
     "metadata": {},
     "output_type": "execute_result"
    }
   ],
   "source": [
    "df['chrf_score'].describe()"
   ]
  },
  {
   "cell_type": "code",
   "execution_count": 39,
   "metadata": {},
   "outputs": [
    {
     "data": {
      "text/plain": [
       "count    9231.000000\n",
       "mean        0.387800\n",
       "std         0.221461\n",
       "min        -0.021591\n",
       "25%         0.224915\n",
       "50%         0.370605\n",
       "75%         0.520508\n",
       "max         1.165039\n",
       "Name: bleurt, dtype: float64"
      ]
     },
     "execution_count": 39,
     "metadata": {},
     "output_type": "execute_result"
    }
   ],
   "source": [
    "df['bleurt'].describe()"
   ]
  },
  {
   "cell_type": "code",
   "execution_count": 40,
   "metadata": {},
   "outputs": [
    {
     "data": {
      "text/plain": [
       "<Axes: >"
      ]
     },
     "execution_count": 40,
     "metadata": {},
     "output_type": "execute_result"
    },
    {
     "data": {
      "image/png": "[encoded data removed]",
      "text/plain": [
       "<Figure size 640x480 with 1 Axes>"
      ]
     },
     "metadata": {},
     "output_type": "display_data"
    }
   ],
   "source": [
    "df[['chrf_score', 'bleurt']].plot.box()"
   ]
  },
  {
   "cell_type": "code",
   "execution_count": 41,
   "metadata": {},
   "outputs": [],
   "source": [
    "df['dataset'] = 'KDE'"
   ]
  },
  {
   "cell_type": "code",
   "execution_count": 42,
   "metadata": {},
   "outputs": [
    {
     "data": {
      "text/plain": [
       "(58863, 6)"
      ]
     },
     "execution_count": 42,
     "metadata": {},
     "output_type": "execute_result"
    }
   ],
   "source": [
    "df_results_e5 = pd.concat([df_results_e5, df[cols]])\n",
    "df_results_e5.shape"
   ]
  },
  {
   "cell_type": "markdown",
   "metadata": {},
   "source": [
    "## Global Voices"
   ]
  },
  {
   "cell_type": "code",
   "execution_count": 43,
   "metadata": {},
   "outputs": [
    {
     "name": "stdout",
     "output_type": "stream",
     "text": [
      "(10000, 6)\n"
     ]
    },
    {
     "data": {
      "text/html": [
       "<div>\n",
       "<style scoped>\n",
       "    .dataframe tbody tr th:only-of-type {\n",
       "        vertical-align: middle;\n",
       "    }\n",
       "\n",
       "    .dataframe tbody tr th {\n",
       "        vertical-align: top;\n",
       "    }\n",
       "\n",
       "    .dataframe thead th {\n",
       "        text-align: right;\n",
       "    }\n",
       "</style>\n",
       "<table border=\"1\" class=\"dataframe\">\n",
       "  <thead>\n",
       "    <tr style=\"text-align: right;\">\n",
       "      <th></th>\n",
       "      <th>source</th>\n",
       "      <th>target</th>\n",
       "      <th>translation</th>\n",
       "      <th>search_result</th>\n",
       "      <th>chrf_score</th>\n",
       "      <th>bleurt</th>\n",
       "    </tr>\n",
       "  </thead>\n",
       "  <tbody>\n",
       "    <tr>\n",
       "      <th>0</th>\n",
       "      <td>Mitya Gutrin, ex-colega de Alexey e Irina, esc...</td>\n",
       "      <td>Mitya Gutrin, a former colleague of both Alexe...</td>\n",
       "      <td>Mitya Gutrin, former colleague of Alexey and I...</td>\n",
       "      <td>Marina Litvinovich (aka LJ user abstract2001) ...</td>\n",
       "      <td>0.203902</td>\n",
       "      <td>0.234253</td>\n",
       "    </tr>\n",
       "    <tr>\n",
       "      <th>1</th>\n",
       "      <td>O dinheiro raramente era devolvido e Kabanov a...</td>\n",
       "      <td>The money was rarely returned, and Kabanov gen...</td>\n",
       "      <td>The money was rarely returned and Kabanov gene...</td>\n",
       "      <td>Bribes are described as “tea money” and hardly...</td>\n",
       "      <td>0.191022</td>\n",
       "      <td>0.392822</td>\n",
       "    </tr>\n",
       "    <tr>\n",
       "      <th>2</th>\n",
       "      <td>Gutrin escreveu:</td>\n",
       "      <td>Gutrin wrote:</td>\n",
       "      <td>Gutrin wrote:</td>\n",
       "      <td>Citizen wrote:</td>\n",
       "      <td>0.478502</td>\n",
       "      <td>0.379883</td>\n",
       "    </tr>\n",
       "    <tr>\n",
       "      <th>3</th>\n",
       "      <td>Sempre pensei que há um amplo abismo entre um ...</td>\n",
       "      <td>I always thought that a hefty chasm lies betwe...</td>\n",
       "      <td>I always thought there was a wide gap between ...</td>\n",
       "      <td>It feels like ferocious potential rapists and ...</td>\n",
       "      <td>0.250354</td>\n",
       "      <td>0.454346</td>\n",
       "    </tr>\n",
       "    <tr>\n",
       "      <th>4</th>\n",
       "      <td>Agora sei que não é tão amplo quanto pensei, e...</td>\n",
       "      <td>Now I know that it isn't as large as I thought...</td>\n",
       "      <td>Now I know it's not as broad as I thought, and...</td>\n",
       "      <td>So perhaps it's not all that bad.  […]</td>\n",
       "      <td>0.117007</td>\n",
       "      <td>0.430664</td>\n",
       "    </tr>\n",
       "  </tbody>\n",
       "</table>\n",
       "</div>"
      ],
      "text/plain": [
       "                                              source  \\\n",
       "0  Mitya Gutrin, ex-colega de Alexey e Irina, esc...   \n",
       "1  O dinheiro raramente era devolvido e Kabanov a...   \n",
       "2                                   Gutrin escreveu:   \n",
       "3  Sempre pensei que há um amplo abismo entre um ...   \n",
       "4  Agora sei que não é tão amplo quanto pensei, e...   \n",
       "\n",
       "                                              target  \\\n",
       "0  Mitya Gutrin, a former colleague of both Alexe...   \n",
       "1  The money was rarely returned, and Kabanov gen...   \n",
       "2                                      Gutrin wrote:   \n",
       "3  I always thought that a hefty chasm lies betwe...   \n",
       "4  Now I know that it isn't as large as I thought...   \n",
       "\n",
       "                                         translation  \\\n",
       "0  Mitya Gutrin, former colleague of Alexey and I...   \n",
       "1  The money was rarely returned and Kabanov gene...   \n",
       "2                                      Gutrin wrote:   \n",
       "3  I always thought there was a wide gap between ...   \n",
       "4  Now I know it's not as broad as I thought, and...   \n",
       "\n",
       "                                       search_result  chrf_score    bleurt  \n",
       "0  Marina Litvinovich (aka LJ user abstract2001) ...    0.203902  0.234253  \n",
       "1  Bribes are described as “tea money” and hardly...    0.191022  0.392822  \n",
       "2                                     Citizen wrote:    0.478502  0.379883  \n",
       "3  It feels like ferocious potential rapists and ...    0.250354  0.454346  \n",
       "4             So perhaps it's not all that bad.  […]    0.117007  0.430664  "
      ]
     },
     "execution_count": 43,
     "metadata": {},
     "output_type": "execute_result"
    }
   ],
   "source": [
    "df = pd.read_csv(f'{BASE_PATH}/global_voices_pt_en_result_scored.csv', sep='\\t')\n",
    "print(df.shape)\n",
    "df.head()"
   ]
  },
  {
   "cell_type": "code",
   "execution_count": 44,
   "metadata": {},
   "outputs": [
    {
     "data": {
      "text/plain": [
       "source           0\n",
       "target           0\n",
       "translation      0\n",
       "search_result    0\n",
       "chrf_score       0\n",
       "bleurt           0\n",
       "dtype: int64"
      ]
     },
     "execution_count": 44,
     "metadata": {},
     "output_type": "execute_result"
    }
   ],
   "source": [
    "df.isna().sum()"
   ]
  },
  {
   "cell_type": "code",
   "execution_count": 45,
   "metadata": {},
   "outputs": [
    {
     "data": {
      "text/plain": [
       "(10000, 6)"
      ]
     },
     "execution_count": 45,
     "metadata": {},
     "output_type": "execute_result"
    }
   ],
   "source": [
    "df.drop_duplicates(subset=['source', 'target']).shape"
   ]
  },
  {
   "cell_type": "code",
   "execution_count": 46,
   "metadata": {},
   "outputs": [
    {
     "data": {
      "text/plain": [
       "(10000, 6)"
      ]
     },
     "execution_count": 46,
     "metadata": {},
     "output_type": "execute_result"
    }
   ],
   "source": [
    "df = treat_data(df)\n",
    "df.shape"
   ]
  },
  {
   "cell_type": "code",
   "execution_count": 47,
   "metadata": {},
   "outputs": [
    {
     "data": {
      "text/plain": [
       "count    1.000000e+04\n",
       "mean     2.526606e-01\n",
       "std      1.383117e-01\n",
       "min      1.000000e-16\n",
       "25%      1.759130e-01\n",
       "50%      2.285026e-01\n",
       "75%      2.889617e-01\n",
       "max      9.965308e-01\n",
       "Name: chrf_score, dtype: float64"
      ]
     },
     "execution_count": 47,
     "metadata": {},
     "output_type": "execute_result"
    }
   ],
   "source": [
    "df['chrf_score'].describe()"
   ]
  },
  {
   "cell_type": "code",
   "execution_count": 48,
   "metadata": {},
   "outputs": [
    {
     "data": {
      "text/plain": [
       "count    10000.000000\n",
       "mean         0.367365\n",
       "std          0.150591\n",
       "min          0.011833\n",
       "25%          0.264160\n",
       "50%          0.346924\n",
       "75%          0.443115\n",
       "max          0.973145\n",
       "Name: bleurt, dtype: float64"
      ]
     },
     "execution_count": 48,
     "metadata": {},
     "output_type": "execute_result"
    }
   ],
   "source": [
    "df['bleurt'].describe()"
   ]
  },
  {
   "cell_type": "code",
   "execution_count": 49,
   "metadata": {},
   "outputs": [
    {
     "data": {
      "text/plain": [
       "<Axes: >"
      ]
     },
     "execution_count": 49,
     "metadata": {},
     "output_type": "execute_result"
    },
    {
     "data": {
      "image/png": "[encoded data removed]",
      "text/plain": [
       "<Figure size 640x480 with 1 Axes>"
      ]
     },
     "metadata": {},
     "output_type": "display_data"
    }
   ],
   "source": [
    "df[['chrf_score', 'bleurt']].plot.box()"
   ]
  },
  {
   "cell_type": "code",
   "execution_count": 50,
   "metadata": {},
   "outputs": [],
   "source": [
    "df['dataset'] = 'Global Voices'"
   ]
  },
  {
   "cell_type": "code",
   "execution_count": 51,
   "metadata": {},
   "outputs": [
    {
     "data": {
      "text/plain": [
       "(68864, 6)"
      ]
     },
     "execution_count": 51,
     "metadata": {},
     "output_type": "execute_result"
    }
   ],
   "source": [
    "df_results = pd.concat([df_results, df[cols]])\n",
    "df_results.shape"
   ]
  },
  {
   "cell_type": "markdown",
   "metadata": {},
   "source": [
    "## Global Voices - e5"
   ]
  },
  {
   "cell_type": "code",
   "execution_count": 52,
   "metadata": {},
   "outputs": [
    {
     "name": "stdout",
     "output_type": "stream",
     "text": [
      "(10000, 5)\n"
     ]
    },
    {
     "data": {
      "text/html": [
       "<div>\n",
       "<style scoped>\n",
       "    .dataframe tbody tr th:only-of-type {\n",
       "        vertical-align: middle;\n",
       "    }\n",
       "\n",
       "    .dataframe tbody tr th {\n",
       "        vertical-align: top;\n",
       "    }\n",
       "\n",
       "    .dataframe thead th {\n",
       "        text-align: right;\n",
       "    }\n",
       "</style>\n",
       "<table border=\"1\" class=\"dataframe\">\n",
       "  <thead>\n",
       "    <tr style=\"text-align: right;\">\n",
       "      <th></th>\n",
       "      <th>source</th>\n",
       "      <th>target</th>\n",
       "      <th>search_result</th>\n",
       "      <th>chrf_score</th>\n",
       "      <th>bleurt</th>\n",
       "    </tr>\n",
       "  </thead>\n",
       "  <tbody>\n",
       "    <tr>\n",
       "      <th>0</th>\n",
       "      <td>Mitya Gutrin, ex-colega de Alexey e Irina, esc...</td>\n",
       "      <td>Mitya Gutrin, a former colleague of both Alexe...</td>\n",
       "      <td>A actual governação assenta numa falsa democra...</td>\n",
       "      <td>0.156278</td>\n",
       "      <td>0.011253</td>\n",
       "    </tr>\n",
       "    <tr>\n",
       "      <th>1</th>\n",
       "      <td>O dinheiro raramente era devolvido e Kabanov a...</td>\n",
       "      <td>The money was rarely returned, and Kabanov gen...</td>\n",
       "      <td>A rápida conclusão, porém, não convenceu seus ...</td>\n",
       "      <td>0.135283</td>\n",
       "      <td>-0.027145</td>\n",
       "    </tr>\n",
       "    <tr>\n",
       "      <th>2</th>\n",
       "      <td>Gutrin escreveu:</td>\n",
       "      <td>Gutrin wrote:</td>\n",
       "      <td>Sabitou Oumarou:</td>\n",
       "      <td>0.096050</td>\n",
       "      <td>0.291748</td>\n",
       "    </tr>\n",
       "    <tr>\n",
       "      <th>3</th>\n",
       "      <td>Sempre pensei que há um amplo abismo entre um ...</td>\n",
       "      <td>I always thought that a hefty chasm lies betwe...</td>\n",
       "      <td>A polícia catarinense ainda investiga as circu...</td>\n",
       "      <td>0.155246</td>\n",
       "      <td>-0.005928</td>\n",
       "    </tr>\n",
       "    <tr>\n",
       "      <th>4</th>\n",
       "      <td>Agora sei que não é tão amplo quanto pensei, e...</td>\n",
       "      <td>Now I know that it isn't as large as I thought...</td>\n",
       "      <td>Pelo que apreendi na altura e sei hoje, o Esta...</td>\n",
       "      <td>0.135139</td>\n",
       "      <td>0.096802</td>\n",
       "    </tr>\n",
       "  </tbody>\n",
       "</table>\n",
       "</div>"
      ],
      "text/plain": [
       "                                              source  \\\n",
       "0  Mitya Gutrin, ex-colega de Alexey e Irina, esc...   \n",
       "1  O dinheiro raramente era devolvido e Kabanov a...   \n",
       "2                                   Gutrin escreveu:   \n",
       "3  Sempre pensei que há um amplo abismo entre um ...   \n",
       "4  Agora sei que não é tão amplo quanto pensei, e...   \n",
       "\n",
       "                                              target  \\\n",
       "0  Mitya Gutrin, a former colleague of both Alexe...   \n",
       "1  The money was rarely returned, and Kabanov gen...   \n",
       "2                                      Gutrin wrote:   \n",
       "3  I always thought that a hefty chasm lies betwe...   \n",
       "4  Now I know that it isn't as large as I thought...   \n",
       "\n",
       "                                       search_result  chrf_score    bleurt  \n",
       "0  A actual governação assenta numa falsa democra...    0.156278  0.011253  \n",
       "1  A rápida conclusão, porém, não convenceu seus ...    0.135283 -0.027145  \n",
       "2                                   Sabitou Oumarou:    0.096050  0.291748  \n",
       "3  A polícia catarinense ainda investiga as circu...    0.155246 -0.005928  \n",
       "4  Pelo que apreendi na altura e sei hoje, o Esta...    0.135139  0.096802  "
      ]
     },
     "execution_count": 52,
     "metadata": {},
     "output_type": "execute_result"
    }
   ],
   "source": [
    "df = pd.read_csv(f'{BASE_PATH}/global_voices_pt_en_result_e5_scored.csv', sep='\\t')\n",
    "print(df.shape)\n",
    "df.head()"
   ]
  },
  {
   "cell_type": "code",
   "execution_count": 53,
   "metadata": {},
   "outputs": [
    {
     "data": {
      "text/plain": [
       "source           0\n",
       "target           0\n",
       "search_result    0\n",
       "chrf_score       0\n",
       "bleurt           0\n",
       "dtype: int64"
      ]
     },
     "execution_count": 53,
     "metadata": {},
     "output_type": "execute_result"
    }
   ],
   "source": [
    "df.isna().sum()"
   ]
  },
  {
   "cell_type": "code",
   "execution_count": 54,
   "metadata": {},
   "outputs": [
    {
     "data": {
      "text/plain": [
       "(10000, 5)"
      ]
     },
     "execution_count": 54,
     "metadata": {},
     "output_type": "execute_result"
    }
   ],
   "source": [
    "df.drop_duplicates(subset=['source', 'target']).shape"
   ]
  },
  {
   "cell_type": "code",
   "execution_count": 55,
   "metadata": {},
   "outputs": [
    {
     "data": {
      "text/plain": [
       "(10000, 5)"
      ]
     },
     "execution_count": 55,
     "metadata": {},
     "output_type": "execute_result"
    }
   ],
   "source": [
    "df = treat_data(df)\n",
    "df.shape"
   ]
  },
  {
   "cell_type": "code",
   "execution_count": 56,
   "metadata": {},
   "outputs": [
    {
     "data": {
      "text/plain": [
       "count    1.000000e+04\n",
       "mean     1.592805e-01\n",
       "std      8.576618e-02\n",
       "min      1.000000e-16\n",
       "25%      1.182343e-01\n",
       "50%      1.483529e-01\n",
       "75%      1.830875e-01\n",
       "max      9.961577e-01\n",
       "Name: chrf_score, dtype: float64"
      ]
     },
     "execution_count": 56,
     "metadata": {},
     "output_type": "execute_result"
    }
   ],
   "source": [
    "df['chrf_score'].describe()"
   ]
  },
  {
   "cell_type": "code",
   "execution_count": 57,
   "metadata": {},
   "outputs": [
    {
     "data": {
      "text/plain": [
       "count    10000.000000\n",
       "mean         0.078269\n",
       "std          0.148327\n",
       "min         -0.132690\n",
       "25%         -0.013073\n",
       "50%          0.038559\n",
       "75%          0.114044\n",
       "max          0.981445\n",
       "Name: bleurt, dtype: float64"
      ]
     },
     "execution_count": 57,
     "metadata": {},
     "output_type": "execute_result"
    }
   ],
   "source": [
    "df['bleurt'].describe()"
   ]
  },
  {
   "cell_type": "code",
   "execution_count": 58,
   "metadata": {},
   "outputs": [
    {
     "data": {
      "text/plain": [
       "<Axes: >"
      ]
     },
     "execution_count": 58,
     "metadata": {},
     "output_type": "execute_result"
    },
    {
     "data": {
      "image/png": "[encoded data removed]",
      "text/plain": [
       "<Figure size 640x480 with 1 Axes>"
      ]
     },
     "metadata": {},
     "output_type": "display_data"
    }
   ],
   "source": [
    "df[['chrf_score', 'bleurt']].plot.box()"
   ]
  },
  {
   "cell_type": "code",
   "execution_count": 59,
   "metadata": {},
   "outputs": [],
   "source": [
    "df['dataset'] = 'Global Voices'"
   ]
  },
  {
   "cell_type": "code",
   "execution_count": 60,
   "metadata": {},
   "outputs": [
    {
     "data": {
      "text/plain": [
       "(68863, 6)"
      ]
     },
     "execution_count": 60,
     "metadata": {},
     "output_type": "execute_result"
    }
   ],
   "source": [
    "df_results_e5 = pd.concat([df_results_e5, df[cols]])\n",
    "df_results_e5.shape"
   ]
  },
  {
   "cell_type": "markdown",
   "metadata": {},
   "source": [
    "## United Nation"
   ]
  },
  {
   "cell_type": "code",
   "execution_count": 61,
   "metadata": {},
   "outputs": [
    {
     "name": "stdout",
     "output_type": "stream",
     "text": [
      "(10000, 6)\n"
     ]
    },
    {
     "data": {
      "text/html": [
       "<div>\n",
       "<style scoped>\n",
       "    .dataframe tbody tr th:only-of-type {\n",
       "        vertical-align: middle;\n",
       "    }\n",
       "\n",
       "    .dataframe tbody tr th {\n",
       "        vertical-align: top;\n",
       "    }\n",
       "\n",
       "    .dataframe thead th {\n",
       "        text-align: right;\n",
       "    }\n",
       "</style>\n",
       "<table border=\"1\" class=\"dataframe\">\n",
       "  <thead>\n",
       "    <tr style=\"text-align: right;\">\n",
       "      <th></th>\n",
       "      <th>source</th>\n",
       "      <th>target</th>\n",
       "      <th>translation</th>\n",
       "      <th>search_result</th>\n",
       "      <th>chrf_score</th>\n",
       "      <th>bleurt</th>\n",
       "    </tr>\n",
       "  </thead>\n",
       "  <tbody>\n",
       "    <tr>\n",
       "      <th>0</th>\n",
       "      <td>19. Maintenance services. Provision under this...</td>\n",
       "      <td>Services d’entretien. Le montant prévu à cette...</td>\n",
       "      <td>19. Services d'entretien Le montant prévu à ce...</td>\n",
       "      <td>Indemnité de subsistance (missions). Le montan...</td>\n",
       "      <td>0.773737</td>\n",
       "      <td>0.394531</td>\n",
       "    </tr>\n",
       "    <tr>\n",
       "      <th>1</th>\n",
       "      <td>Additionally, as indicated in paragraph 6 abov...</td>\n",
       "      <td>En outre, comme il a été noté plus haut au par...</td>\n",
       "      <td>En outre, comme il est indiqué au paragraphe 6...</td>\n",
       "      <td>Aux termes de ces arrangements, des dépenses c...</td>\n",
       "      <td>0.367461</td>\n",
       "      <td>0.258057</td>\n",
       "    </tr>\n",
       "    <tr>\n",
       "      <th>2</th>\n",
       "      <td>The total requirements under this heading are ...</td>\n",
       "      <td>Au total, les sommes à prévoir à cette rubriqu...</td>\n",
       "      <td>Le montant total des ressources nécessaires à ...</td>\n",
       "      <td>Les ressources nécessaires sont estimées à 826...</td>\n",
       "      <td>0.674348</td>\n",
       "      <td>0.568848</td>\n",
       "    </tr>\n",
       "    <tr>\n",
       "      <th>3</th>\n",
       "      <td>20. Utilities. Provision for utilities is base...</td>\n",
       "      <td>Éclairage, chauffage, énergie et eau. On a cal...</td>\n",
       "      <td>20. Services collectifs de distribution Les re...</td>\n",
       "      <td>Calculé sur la base d’une consommation journal...</td>\n",
       "      <td>0.273105</td>\n",
       "      <td>0.207153</td>\n",
       "    </tr>\n",
       "    <tr>\n",
       "      <th>4</th>\n",
       "      <td>The back-up power generation capacity is requi...</td>\n",
       "      <td>Les moyens de secours pour la production d’éle...</td>\n",
       "      <td>La capacité de production d'électricité de sec...</td>\n",
       "      <td>Fournitures d’entretien. Le montant prévu doit...</td>\n",
       "      <td>0.379619</td>\n",
       "      <td>0.230591</td>\n",
       "    </tr>\n",
       "  </tbody>\n",
       "</table>\n",
       "</div>"
      ],
      "text/plain": [
       "                                              source  \\\n",
       "0  19. Maintenance services. Provision under this...   \n",
       "1  Additionally, as indicated in paragraph 6 abov...   \n",
       "2  The total requirements under this heading are ...   \n",
       "3  20. Utilities. Provision for utilities is base...   \n",
       "4  The back-up power generation capacity is requi...   \n",
       "\n",
       "                                              target  \\\n",
       "0  Services d’entretien. Le montant prévu à cette...   \n",
       "1  En outre, comme il a été noté plus haut au par...   \n",
       "2  Au total, les sommes à prévoir à cette rubriqu...   \n",
       "3  Éclairage, chauffage, énergie et eau. On a cal...   \n",
       "4  Les moyens de secours pour la production d’éle...   \n",
       "\n",
       "                                         translation  \\\n",
       "0  19. Services d'entretien Le montant prévu à ce...   \n",
       "1  En outre, comme il est indiqué au paragraphe 6...   \n",
       "2  Le montant total des ressources nécessaires à ...   \n",
       "3  20. Services collectifs de distribution Les re...   \n",
       "4  La capacité de production d'électricité de sec...   \n",
       "\n",
       "                                       search_result  chrf_score    bleurt  \n",
       "0  Indemnité de subsistance (missions). Le montan...    0.773737  0.394531  \n",
       "1  Aux termes de ces arrangements, des dépenses c...    0.367461  0.258057  \n",
       "2  Les ressources nécessaires sont estimées à 826...    0.674348  0.568848  \n",
       "3  Calculé sur la base d’une consommation journal...    0.273105  0.207153  \n",
       "4  Fournitures d’entretien. Le montant prévu doit...    0.379619  0.230591  "
      ]
     },
     "execution_count": 61,
     "metadata": {},
     "output_type": "execute_result"
    }
   ],
   "source": [
    "df = pd.read_csv(f'{BASE_PATH}/united_nation_en_fr_result_scored.csv', sep='\\t')\n",
    "print(df.shape)\n",
    "df.head()"
   ]
  },
  {
   "cell_type": "code",
   "execution_count": 62,
   "metadata": {},
   "outputs": [
    {
     "data": {
      "text/plain": [
       "source           0\n",
       "target           0\n",
       "translation      0\n",
       "search_result    0\n",
       "chrf_score       0\n",
       "bleurt           0\n",
       "dtype: int64"
      ]
     },
     "execution_count": 62,
     "metadata": {},
     "output_type": "execute_result"
    }
   ],
   "source": [
    "df.isna().sum()"
   ]
  },
  {
   "cell_type": "code",
   "execution_count": 63,
   "metadata": {},
   "outputs": [
    {
     "data": {
      "text/plain": [
       "(9547, 6)"
      ]
     },
     "execution_count": 63,
     "metadata": {},
     "output_type": "execute_result"
    }
   ],
   "source": [
    "df.drop_duplicates().shape"
   ]
  },
  {
   "cell_type": "code",
   "execution_count": 64,
   "metadata": {},
   "outputs": [
    {
     "data": {
      "text/plain": [
       "(9545, 6)"
      ]
     },
     "execution_count": 64,
     "metadata": {},
     "output_type": "execute_result"
    }
   ],
   "source": [
    "df = treat_data(df)\n",
    "df.shape"
   ]
  },
  {
   "cell_type": "code",
   "execution_count": 65,
   "metadata": {},
   "outputs": [
    {
     "data": {
      "text/plain": [
       "count    9.545000e+03\n",
       "mean     3.905668e-01\n",
       "std      2.141713e-01\n",
       "min      1.000000e-16\n",
       "25%      2.562613e-01\n",
       "50%      3.275003e-01\n",
       "75%      4.435641e-01\n",
       "max      1.000000e+00\n",
       "Name: chrf_score, dtype: float64"
      ]
     },
     "execution_count": 65,
     "metadata": {},
     "output_type": "execute_result"
    }
   ],
   "source": [
    "df['chrf_score'].describe()"
   ]
  },
  {
   "cell_type": "code",
   "execution_count": 66,
   "metadata": {},
   "outputs": [
    {
     "data": {
      "text/plain": [
       "count    9545.000000\n",
       "mean        0.323910\n",
       "std         0.243481\n",
       "min        -0.069580\n",
       "25%         0.147095\n",
       "50%         0.261719\n",
       "75%         0.437988\n",
       "max         1.076172\n",
       "Name: bleurt, dtype: float64"
      ]
     },
     "execution_count": 66,
     "metadata": {},
     "output_type": "execute_result"
    }
   ],
   "source": [
    "df['bleurt'].describe()"
   ]
  },
  {
   "cell_type": "code",
   "execution_count": 67,
   "metadata": {},
   "outputs": [
    {
     "data": {
      "text/plain": [
       "<Axes: >"
      ]
     },
     "execution_count": 67,
     "metadata": {},
     "output_type": "execute_result"
    },
    {
     "data": {
      "image/png": "[encoded data removed]",
      "text/plain": [
       "<Figure size 640x480 with 1 Axes>"
      ]
     },
     "metadata": {},
     "output_type": "display_data"
    }
   ],
   "source": [
    "df[['chrf_score', 'bleurt']].plot.box()"
   ]
  },
  {
   "cell_type": "code",
   "execution_count": 68,
   "metadata": {},
   "outputs": [],
   "source": [
    "df['dataset'] = 'United Nations'"
   ]
  },
  {
   "cell_type": "code",
   "execution_count": 69,
   "metadata": {},
   "outputs": [
    {
     "data": {
      "text/plain": [
       "(78409, 6)"
      ]
     },
     "execution_count": 69,
     "metadata": {},
     "output_type": "execute_result"
    }
   ],
   "source": [
    "df_results = pd.concat([df_results, df[cols]])\n",
    "df_results.shape"
   ]
  },
  {
   "cell_type": "markdown",
   "metadata": {},
   "source": [
    "## United Nation - e5"
   ]
  },
  {
   "cell_type": "code",
   "execution_count": 70,
   "metadata": {},
   "outputs": [
    {
     "name": "stdout",
     "output_type": "stream",
     "text": [
      "(10000, 5)\n"
     ]
    },
    {
     "data": {
      "text/html": [
       "<div>\n",
       "<style scoped>\n",
       "    .dataframe tbody tr th:only-of-type {\n",
       "        vertical-align: middle;\n",
       "    }\n",
       "\n",
       "    .dataframe tbody tr th {\n",
       "        vertical-align: top;\n",
       "    }\n",
       "\n",
       "    .dataframe thead th {\n",
       "        text-align: right;\n",
       "    }\n",
       "</style>\n",
       "<table border=\"1\" class=\"dataframe\">\n",
       "  <thead>\n",
       "    <tr style=\"text-align: right;\">\n",
       "      <th></th>\n",
       "      <th>source</th>\n",
       "      <th>target</th>\n",
       "      <th>search_result</th>\n",
       "      <th>chrf_score</th>\n",
       "      <th>bleurt</th>\n",
       "    </tr>\n",
       "  </thead>\n",
       "  <tbody>\n",
       "    <tr>\n",
       "      <th>0</th>\n",
       "      <td>19. Maintenance services. Provision under this...</td>\n",
       "      <td>Services d’entretien. Le montant prévu à cette...</td>\n",
       "      <td>Indemnité de subsistance (missions). Le montan...</td>\n",
       "      <td>0.773737</td>\n",
       "      <td>0.394531</td>\n",
       "    </tr>\n",
       "    <tr>\n",
       "      <th>1</th>\n",
       "      <td>Additionally, as indicated in paragraph 6 abov...</td>\n",
       "      <td>En outre, comme il a été noté plus haut au par...</td>\n",
       "      <td>Le montant révisé des ressources prévues doit ...</td>\n",
       "      <td>0.342375</td>\n",
       "      <td>0.185669</td>\n",
       "    </tr>\n",
       "    <tr>\n",
       "      <th>2</th>\n",
       "      <td>The total requirements under this heading are ...</td>\n",
       "      <td>Au total, les sommes à prévoir à cette rubriqu...</td>\n",
       "      <td>Les ressources nécessaires sont estimées à 826...</td>\n",
       "      <td>0.674348</td>\n",
       "      <td>0.568848</td>\n",
       "    </tr>\n",
       "    <tr>\n",
       "      <th>3</th>\n",
       "      <td>20. Utilities. Provision for utilities is base...</td>\n",
       "      <td>Éclairage, chauffage, énergie et eau. On a cal...</td>\n",
       "      <td>Calculé sur la base d’une consommation moyenne...</td>\n",
       "      <td>0.365368</td>\n",
       "      <td>0.134155</td>\n",
       "    </tr>\n",
       "    <tr>\n",
       "      <th>4</th>\n",
       "      <td>The back-up power generation capacity is requi...</td>\n",
       "      <td>Les moyens de secours pour la production d’éle...</td>\n",
       "      <td>Le budget prévoit un montant de 50 000 dollars...</td>\n",
       "      <td>0.344966</td>\n",
       "      <td>0.230103</td>\n",
       "    </tr>\n",
       "  </tbody>\n",
       "</table>\n",
       "</div>"
      ],
      "text/plain": [
       "                                              source  \\\n",
       "0  19. Maintenance services. Provision under this...   \n",
       "1  Additionally, as indicated in paragraph 6 abov...   \n",
       "2  The total requirements under this heading are ...   \n",
       "3  20. Utilities. Provision for utilities is base...   \n",
       "4  The back-up power generation capacity is requi...   \n",
       "\n",
       "                                              target  \\\n",
       "0  Services d’entretien. Le montant prévu à cette...   \n",
       "1  En outre, comme il a été noté plus haut au par...   \n",
       "2  Au total, les sommes à prévoir à cette rubriqu...   \n",
       "3  Éclairage, chauffage, énergie et eau. On a cal...   \n",
       "4  Les moyens de secours pour la production d’éle...   \n",
       "\n",
       "                                       search_result  chrf_score    bleurt  \n",
       "0  Indemnité de subsistance (missions). Le montan...    0.773737  0.394531  \n",
       "1  Le montant révisé des ressources prévues doit ...    0.342375  0.185669  \n",
       "2  Les ressources nécessaires sont estimées à 826...    0.674348  0.568848  \n",
       "3  Calculé sur la base d’une consommation moyenne...    0.365368  0.134155  \n",
       "4  Le budget prévoit un montant de 50 000 dollars...    0.344966  0.230103  "
      ]
     },
     "execution_count": 70,
     "metadata": {},
     "output_type": "execute_result"
    }
   ],
   "source": [
    "df = pd.read_csv(f'{BASE_PATH}/united_nation_en_fr_result_e5_scored.csv', sep='\\t')\n",
    "print(df.shape)\n",
    "df.head()"
   ]
  },
  {
   "cell_type": "code",
   "execution_count": 71,
   "metadata": {},
   "outputs": [
    {
     "data": {
      "text/plain": [
       "source           0\n",
       "target           0\n",
       "search_result    0\n",
       "chrf_score       0\n",
       "bleurt           0\n",
       "dtype: int64"
      ]
     },
     "execution_count": 71,
     "metadata": {},
     "output_type": "execute_result"
    }
   ],
   "source": [
    "df.isna().sum()"
   ]
  },
  {
   "cell_type": "code",
   "execution_count": 72,
   "metadata": {},
   "outputs": [
    {
     "data": {
      "text/plain": [
       "(9545, 5)"
      ]
     },
     "execution_count": 72,
     "metadata": {},
     "output_type": "execute_result"
    }
   ],
   "source": [
    "df.drop_duplicates().shape"
   ]
  },
  {
   "cell_type": "code",
   "execution_count": 73,
   "metadata": {},
   "outputs": [
    {
     "data": {
      "text/plain": [
       "(9545, 5)"
      ]
     },
     "execution_count": 73,
     "metadata": {},
     "output_type": "execute_result"
    }
   ],
   "source": [
    "df = treat_data(df)\n",
    "df.shape"
   ]
  },
  {
   "cell_type": "code",
   "execution_count": 74,
   "metadata": {},
   "outputs": [
    {
     "data": {
      "text/plain": [
       "count    9.545000e+03\n",
       "mean     3.899625e-01\n",
       "std      2.081110e-01\n",
       "min      1.000000e-16\n",
       "25%      2.641316e-01\n",
       "50%      3.337158e-01\n",
       "75%      4.425631e-01\n",
       "max      1.000000e+00\n",
       "Name: chrf_score, dtype: float64"
      ]
     },
     "execution_count": 74,
     "metadata": {},
     "output_type": "execute_result"
    }
   ],
   "source": [
    "df['chrf_score'].describe()"
   ]
  },
  {
   "cell_type": "code",
   "execution_count": 75,
   "metadata": {},
   "outputs": [
    {
     "data": {
      "text/plain": [
       "count    9545.000000\n",
       "mean        0.311131\n",
       "std         0.235989\n",
       "min        -0.085449\n",
       "25%         0.146118\n",
       "50%         0.254150\n",
       "75%         0.405762\n",
       "max         1.076172\n",
       "Name: bleurt, dtype: float64"
      ]
     },
     "execution_count": 75,
     "metadata": {},
     "output_type": "execute_result"
    }
   ],
   "source": [
    "df['bleurt'].describe()"
   ]
  },
  {
   "cell_type": "code",
   "execution_count": 76,
   "metadata": {},
   "outputs": [
    {
     "data": {
      "text/plain": [
       "<Axes: >"
      ]
     },
     "execution_count": 76,
     "metadata": {},
     "output_type": "execute_result"
    },
    {
     "data": {
      "image/png": "[encoded data removed]",
      "text/plain": [
       "<Figure size 640x480 with 1 Axes>"
      ]
     },
     "metadata": {},
     "output_type": "display_data"
    }
   ],
   "source": [
    "df[['chrf_score', 'bleurt']].plot.box()"
   ]
  },
  {
   "cell_type": "code",
   "execution_count": 77,
   "metadata": {},
   "outputs": [],
   "source": [
    "df['dataset'] = 'United Nations'"
   ]
  },
  {
   "cell_type": "code",
   "execution_count": 78,
   "metadata": {},
   "outputs": [
    {
     "data": {
      "text/plain": [
       "(78408, 6)"
      ]
     },
     "execution_count": 78,
     "metadata": {},
     "output_type": "execute_result"
    }
   ],
   "source": [
    "df_results_e5 = pd.concat([df_results_e5, df[cols]])\n",
    "df_results_e5.shape"
   ]
  },
  {
   "cell_type": "markdown",
   "metadata": {},
   "source": [
    "## Comparação"
   ]
  },
  {
   "cell_type": "code",
   "execution_count": 79,
   "metadata": {},
   "outputs": [
    {
     "data": {
      "text/html": [
       "<div>\n",
       "<style scoped>\n",
       "    .dataframe tbody tr th:only-of-type {\n",
       "        vertical-align: middle;\n",
       "    }\n",
       "\n",
       "    .dataframe tbody tr th {\n",
       "        vertical-align: top;\n",
       "    }\n",
       "\n",
       "    .dataframe thead th {\n",
       "        text-align: right;\n",
       "    }\n",
       "</style>\n",
       "<table border=\"1\" class=\"dataframe\">\n",
       "  <thead>\n",
       "    <tr style=\"text-align: right;\">\n",
       "      <th></th>\n",
       "      <th>dataset</th>\n",
       "      <th>source</th>\n",
       "      <th>target</th>\n",
       "      <th>search_result</th>\n",
       "      <th>chrf_score</th>\n",
       "      <th>bleurt</th>\n",
       "    </tr>\n",
       "  </thead>\n",
       "  <tbody>\n",
       "    <tr>\n",
       "      <th>3422</th>\n",
       "      <td>United Nations</td>\n",
       "      <td>A</td>\n",
       "      <td>A</td>\n",
       "      <td>Tenant compte des travaux entrepris par le Gro...</td>\n",
       "      <td>1.000000e-16</td>\n",
       "      <td>0.211670</td>\n",
       "    </tr>\n",
       "    <tr>\n",
       "      <th>3434</th>\n",
       "      <td>United Nations</td>\n",
       "      <td>C</td>\n",
       "      <td>C</td>\n",
       "      <td>(En milliers de dollars des États-Unis)</td>\n",
       "      <td>1.000000e-16</td>\n",
       "      <td>0.042267</td>\n",
       "    </tr>\n",
       "    <tr>\n",
       "      <th>4963</th>\n",
       "      <td>United Nations</td>\n",
       "      <td>Notes</td>\n",
       "      <td>Notes</td>\n",
       "      <td>PARTIE I</td>\n",
       "      <td>1.000000e-16</td>\n",
       "      <td>0.121948</td>\n",
       "    </tr>\n",
       "    <tr>\n",
       "      <th>6039</th>\n",
       "      <td>United Nations</td>\n",
       "      <td>Economic and social planning</td>\n",
       "      <td>Planification économique et sociale</td>\n",
       "      <td>CONSEIL ÉCONOMIQUE ET SOCIAL</td>\n",
       "      <td>1.000000e-16</td>\n",
       "      <td>0.665527</td>\n",
       "    </tr>\n",
       "    <tr>\n",
       "      <th>8505</th>\n",
       "      <td>United Nations</td>\n",
       "      <td>BCG vaccine</td>\n",
       "      <td>BCG</td>\n",
       "      <td>Vaccination préventive</td>\n",
       "      <td>1.000000e-16</td>\n",
       "      <td>0.092102</td>\n",
       "    </tr>\n",
       "    <tr>\n",
       "      <th>6508</th>\n",
       "      <td>United Nations</td>\n",
       "      <td>(iii) Management audits; reviews and surveys i...</td>\n",
       "      <td>iii) Audits de gestion; analyses et enquêtes d...</td>\n",
       "      <td>III. ARRANGEMENTS DE GESTION, CONTROLE ET EVAL...</td>\n",
       "      <td>1.712915e-03</td>\n",
       "      <td>0.172852</td>\n",
       "    </tr>\n",
       "    <tr>\n",
       "      <th>4333</th>\n",
       "      <td>United Nations</td>\n",
       "      <td>Appointments to fill vacancies in subsidiary o...</td>\n",
       "      <td>NOMINATIONS AUX SIÈGES DEVENUS VACANTS DANS LE...</td>\n",
       "      <td>Nominations aux sièges devenus vacants dans le...</td>\n",
       "      <td>2.099076e-03</td>\n",
       "      <td>0.658691</td>\n",
       "    </tr>\n",
       "    <tr>\n",
       "      <th>4761</th>\n",
       "      <td>United Nations</td>\n",
       "      <td>FIFTIETH ANNIVERSARY OF THE UNIVERSAL DECLARAT...</td>\n",
       "      <td>CINQUANTIÈME ANNIVERSAIRE DE LA DÉCLARATION UN...</td>\n",
       "      <td>Préparatifs du cinquantième anniversaire de la...</td>\n",
       "      <td>2.405002e-03</td>\n",
       "      <td>0.564941</td>\n",
       "    </tr>\n",
       "    <tr>\n",
       "      <th>6428</th>\n",
       "      <td>United Nations</td>\n",
       "      <td>(i) With interpretation</td>\n",
       "      <td>2. Service des séances, interprétation et réda...</td>\n",
       "      <td>i)</td>\n",
       "      <td>2.637131e-03</td>\n",
       "      <td>0.022049</td>\n",
       "    </tr>\n",
       "    <tr>\n",
       "      <th>2746</th>\n",
       "      <td>United Nations</td>\n",
       "      <td>MEASURES TO ELIMINATE INTERNATIONAL TERRORISM</td>\n",
       "      <td>MESURES VISANT À ÉLIMINER LE TERRORISME INTERN...</td>\n",
       "      <td>52/165. Mesures visant à éliminer le terrorism...</td>\n",
       "      <td>3.494060e-03</td>\n",
       "      <td>0.727539</td>\n",
       "    </tr>\n",
       "    <tr>\n",
       "      <th>4405</th>\n",
       "      <td>United Nations</td>\n",
       "      <td>Appointments to fill vacancies in subsidiary</td>\n",
       "      <td>NOMINATIONS AUX SIÈGES DEVENUS VACANTS DANS LES</td>\n",
       "      <td>Nominations aux sièges devenus vacants dans le...</td>\n",
       "      <td>3.687316e-03</td>\n",
       "      <td>0.356201</td>\n",
       "    </tr>\n",
       "    <tr>\n",
       "      <th>4406</th>\n",
       "      <td>United Nations</td>\n",
       "      <td>organs and other appointments</td>\n",
       "      <td>ORGANES SUBSIDIAIRES ET AUTRES NOMINATIONS</td>\n",
       "      <td>Autres missions spéciales</td>\n",
       "      <td>4.566210e-03</td>\n",
       "      <td>0.141846</td>\n",
       "    </tr>\n",
       "    <tr>\n",
       "      <th>624</th>\n",
       "      <td>United Nations</td>\n",
       "      <td>ENVIRONMENT AND SUSTAINABLE DEVELOPMENT</td>\n",
       "      <td>ENVIRONNEMENT ET DÉVELOPPEMENT DURABLE</td>\n",
       "      <td>Environnement et développement durable</td>\n",
       "      <td>4.761905e-03</td>\n",
       "      <td>0.799805</td>\n",
       "    </tr>\n",
       "    <tr>\n",
       "      <th>4929</th>\n",
       "      <td>United Nations</td>\n",
       "      <td>Note on international protection</td>\n",
       "      <td>Note sur la protection internationale;</td>\n",
       "      <td>PROTECTION INTERNATIONALE</td>\n",
       "      <td>5.050505e-03</td>\n",
       "      <td>0.427002</td>\n",
       "    </tr>\n",
       "    <tr>\n",
       "      <th>114</th>\n",
       "      <td>United Nations</td>\n",
       "      <td>INTERNATIONAL DRUG CONTROL</td>\n",
       "      <td>CONTRÔLE INTERNATIONAL DES DROGUES</td>\n",
       "      <td>14. Contrôle international des drogues</td>\n",
       "      <td>5.324814e-03</td>\n",
       "      <td>0.834473</td>\n",
       "    </tr>\n",
       "    <tr>\n",
       "      <th>5471</th>\n",
       "      <td>United Nations</td>\n",
       "      <td>World Conference on Human Rights/Human rights</td>\n",
       "      <td>Conférence mondiale sur les droits de l’homme/...</td>\n",
       "      <td>SUIVI DE LA CONFERENCE MONDIALE SUR LES DROITS...</td>\n",
       "      <td>6.138735e-03</td>\n",
       "      <td>0.592285</td>\n",
       "    </tr>\n",
       "    <tr>\n",
       "      <th>3306</th>\n",
       "      <td>United Nations</td>\n",
       "      <td>Joint statement by the participants in the Fif...</td>\n",
       "      <td>DÉCLARATION COMMUNE DES PARTICIPANTS À LA CINQ...</td>\n",
       "      <td>Quatrième session de la Conférence des Parties</td>\n",
       "      <td>6.657790e-03</td>\n",
       "      <td>0.059387</td>\n",
       "    </tr>\n",
       "    <tr>\n",
       "      <th>769</th>\n",
       "      <td>United Nations</td>\n",
       "      <td>OCEANS AND THE LAW OF THE SEA</td>\n",
       "      <td>LES OCÉANS ET LE DROIT DE LA MER</td>\n",
       "      <td>Les océans et le droit de la mer</td>\n",
       "      <td>6.666667e-03</td>\n",
       "      <td>0.834961</td>\n",
       "    </tr>\n",
       "    <tr>\n",
       "      <th>3908</th>\n",
       "      <td>United Nations</td>\n",
       "      <td>Global Programme of Action</td>\n",
       "      <td>Programme d’action mondial</td>\n",
       "      <td>PROGRAMME D'ACTION MONDIAL</td>\n",
       "      <td>6.944444e-03</td>\n",
       "      <td>0.793945</td>\n",
       "    </tr>\n",
       "    <tr>\n",
       "      <th>1010</th>\n",
       "      <td>United Nations</td>\n",
       "      <td>COMPREHENSIVE NUCLEAR-TEST-BAN TREATY</td>\n",
       "      <td>TRAITÉ D'INTERDICTION COMPLËTE DES ESSAIS NUCL...</td>\n",
       "      <td>Traité d'interdiction complète des essais nucl...</td>\n",
       "      <td>7.092199e-03</td>\n",
       "      <td>0.879883</td>\n",
       "    </tr>\n",
       "  </tbody>\n",
       "</table>\n",
       "</div>"
      ],
      "text/plain": [
       "             dataset                                             source  \\\n",
       "3422  United Nations                                                  A   \n",
       "3434  United Nations                                                  C   \n",
       "4963  United Nations                                              Notes   \n",
       "6039  United Nations                       Economic and social planning   \n",
       "8505  United Nations                                        BCG vaccine   \n",
       "6508  United Nations  (iii) Management audits; reviews and surveys i...   \n",
       "4333  United Nations  Appointments to fill vacancies in subsidiary o...   \n",
       "4761  United Nations  FIFTIETH ANNIVERSARY OF THE UNIVERSAL DECLARAT...   \n",
       "6428  United Nations                            (i) With interpretation   \n",
       "2746  United Nations      MEASURES TO ELIMINATE INTERNATIONAL TERRORISM   \n",
       "4405  United Nations       Appointments to fill vacancies in subsidiary   \n",
       "4406  United Nations                      organs and other appointments   \n",
       "624   United Nations            ENVIRONMENT AND SUSTAINABLE DEVELOPMENT   \n",
       "4929  United Nations                   Note on international protection   \n",
       "114   United Nations                         INTERNATIONAL DRUG CONTROL   \n",
       "5471  United Nations      World Conference on Human Rights/Human rights   \n",
       "3306  United Nations  Joint statement by the participants in the Fif...   \n",
       "769   United Nations                      OCEANS AND THE LAW OF THE SEA   \n",
       "3908  United Nations                         Global Programme of Action   \n",
       "1010  United Nations              COMPREHENSIVE NUCLEAR-TEST-BAN TREATY   \n",
       "\n",
       "                                                 target  \\\n",
       "3422                                                  A   \n",
       "3434                                                  C   \n",
       "4963                                              Notes   \n",
       "6039                Planification économique et sociale   \n",
       "8505                                                BCG   \n",
       "6508  iii) Audits de gestion; analyses et enquêtes d...   \n",
       "4333  NOMINATIONS AUX SIÈGES DEVENUS VACANTS DANS LE...   \n",
       "4761  CINQUANTIÈME ANNIVERSAIRE DE LA DÉCLARATION UN...   \n",
       "6428  2. Service des séances, interprétation et réda...   \n",
       "2746  MESURES VISANT À ÉLIMINER LE TERRORISME INTERN...   \n",
       "4405    NOMINATIONS AUX SIÈGES DEVENUS VACANTS DANS LES   \n",
       "4406         ORGANES SUBSIDIAIRES ET AUTRES NOMINATIONS   \n",
       "624              ENVIRONNEMENT ET DÉVELOPPEMENT DURABLE   \n",
       "4929             Note sur la protection internationale;   \n",
       "114                  CONTRÔLE INTERNATIONAL DES DROGUES   \n",
       "5471  Conférence mondiale sur les droits de l’homme/...   \n",
       "3306  DÉCLARATION COMMUNE DES PARTICIPANTS À LA CINQ...   \n",
       "769                    LES OCÉANS ET LE DROIT DE LA MER   \n",
       "3908                         Programme d’action mondial   \n",
       "1010  TRAITÉ D'INTERDICTION COMPLËTE DES ESSAIS NUCL...   \n",
       "\n",
       "                                          search_result    chrf_score  \\\n",
       "3422  Tenant compte des travaux entrepris par le Gro...  1.000000e-16   \n",
       "3434            (En milliers de dollars des États-Unis)  1.000000e-16   \n",
       "4963                                           PARTIE I  1.000000e-16   \n",
       "6039                       CONSEIL ÉCONOMIQUE ET SOCIAL  1.000000e-16   \n",
       "8505                             Vaccination préventive  1.000000e-16   \n",
       "6508  III. ARRANGEMENTS DE GESTION, CONTROLE ET EVAL...  1.712915e-03   \n",
       "4333  Nominations aux sièges devenus vacants dans le...  2.099076e-03   \n",
       "4761  Préparatifs du cinquantième anniversaire de la...  2.405002e-03   \n",
       "6428                                                 i)  2.637131e-03   \n",
       "2746  52/165. Mesures visant à éliminer le terrorism...  3.494060e-03   \n",
       "4405  Nominations aux sièges devenus vacants dans le...  3.687316e-03   \n",
       "4406                          Autres missions spéciales  4.566210e-03   \n",
       "624              Environnement et développement durable  4.761905e-03   \n",
       "4929                          PROTECTION INTERNATIONALE  5.050505e-03   \n",
       "114              14. Contrôle international des drogues  5.324814e-03   \n",
       "5471  SUIVI DE LA CONFERENCE MONDIALE SUR LES DROITS...  6.138735e-03   \n",
       "3306     Quatrième session de la Conférence des Parties  6.657790e-03   \n",
       "769                    Les océans et le droit de la mer  6.666667e-03   \n",
       "3908                         PROGRAMME D'ACTION MONDIAL  6.944444e-03   \n",
       "1010  Traité d'interdiction complète des essais nucl...  7.092199e-03   \n",
       "\n",
       "        bleurt  \n",
       "3422  0.211670  \n",
       "3434  0.042267  \n",
       "4963  0.121948  \n",
       "6039  0.665527  \n",
       "8505  0.092102  \n",
       "6508  0.172852  \n",
       "4333  0.658691  \n",
       "4761  0.564941  \n",
       "6428  0.022049  \n",
       "2746  0.727539  \n",
       "4405  0.356201  \n",
       "4406  0.141846  \n",
       "624   0.799805  \n",
       "4929  0.427002  \n",
       "114   0.834473  \n",
       "5471  0.592285  \n",
       "3306  0.059387  \n",
       "769   0.834961  \n",
       "3908  0.793945  \n",
       "1010  0.879883  "
      ]
     },
     "execution_count": 79,
     "metadata": {},
     "output_type": "execute_result"
    }
   ],
   "source": [
    "df_results.loc[df_results['dataset']=='United Nations'].nsmallest(20, 'chrf_score')"
   ]
  },
  {
   "cell_type": "code",
   "execution_count": 80,
   "metadata": {},
   "outputs": [
    {
     "name": "stdout",
     "output_type": "stream",
     "text": [
      "dataset\n",
      "DGT-TM            49633\n",
      "Global Voices     10000\n",
      "United Nations     9545\n",
      "KDE                9231\n",
      "Name: count, dtype: int64 dataset\n",
      "DGT-TM            49632\n",
      "Global Voices     10000\n",
      "United Nations     9545\n",
      "KDE                9231\n",
      "Name: count, dtype: int64\n"
     ]
    }
   ],
   "source": [
    "print(df_results['dataset'].value_counts(), df_results_e5['dataset'].value_counts())"
   ]
  },
  {
   "cell_type": "code",
   "execution_count": 81,
   "metadata": {},
   "outputs": [
    {
     "data": {
      "text/plain": [
       "chrf_score    Axes(0.125,0.11;0.775x0.77)\n",
       "dtype: object"
      ]
     },
     "execution_count": 81,
     "metadata": {},
     "output_type": "execute_result"
    },
    {
     "data": {
      "image/png": "[encoded data removed]",
      "text/plain": [
       "<Figure size 640x480 with 1 Axes>"
      ]
     },
     "metadata": {},
     "output_type": "display_data"
    },
    {
     "data": {
      "image/png": "[encoded data removed]",
      "text/plain": [
       "<Figure size 640x480 with 1 Axes>"
      ]
     },
     "metadata": {},
     "output_type": "display_data"
    }
   ],
   "source": [
    "df_results.plot.box(column='chrf_score', by='dataset', grid=True, title='pipeline')\n",
    "df_results_e5.plot.box(column='chrf_score', by='dataset', grid=True, title='e5')"
   ]
  },
  {
   "cell_type": "code",
   "execution_count": 82,
   "metadata": {},
   "outputs": [
    {
     "data": {
      "text/plain": [
       "bleurt    Axes(0.125,0.11;0.775x0.77)\n",
       "dtype: object"
      ]
     },
     "execution_count": 82,
     "metadata": {},
     "output_type": "execute_result"
    },
    {
     "data": {
      "image/png": "[encoded data removed]",
      "text/plain": [
       "<Figure size 640x480 with 1 Axes>"
      ]
     },
     "metadata": {},
     "output_type": "display_data"
    },
    {
     "data": {
      "image/png": "[encoded data removed]",
      "text/plain": [
       "<Figure size 640x480 with 1 Axes>"
      ]
     },
     "metadata": {},
     "output_type": "display_data"
    }
   ],
   "source": [
    "df_results.plot.box(column='bleurt', by='dataset', grid=True, title='pipeline')\n",
    "df_results_e5.plot.box(column='bleurt', by='dataset', grid=True, title='e5')"
   ]
  },
  {
   "cell_type": "code",
   "execution_count": 83,
   "metadata": {},
   "outputs": [
    {
     "data": {
      "text/html": [
       "<div>\n",
       "<style scoped>\n",
       "    .dataframe tbody tr th:only-of-type {\n",
       "        vertical-align: middle;\n",
       "    }\n",
       "\n",
       "    .dataframe tbody tr th {\n",
       "        vertical-align: top;\n",
       "    }\n",
       "\n",
       "    .dataframe thead tr th {\n",
       "        text-align: left;\n",
       "    }\n",
       "\n",
       "    .dataframe thead tr:last-of-type th {\n",
       "        text-align: right;\n",
       "    }\n",
       "</style>\n",
       "<table border=\"1\" class=\"dataframe\">\n",
       "  <thead>\n",
       "    <tr>\n",
       "      <th></th>\n",
       "      <th colspan=\"4\" halign=\"left\">chrf_score</th>\n",
       "      <th colspan=\"3\" halign=\"left\">bleurt</th>\n",
       "    </tr>\n",
       "    <tr>\n",
       "      <th></th>\n",
       "      <th>count</th>\n",
       "      <th>mean</th>\n",
       "      <th>max</th>\n",
       "      <th>min</th>\n",
       "      <th>mean</th>\n",
       "      <th>max</th>\n",
       "      <th>min</th>\n",
       "    </tr>\n",
       "    <tr>\n",
       "      <th>dataset</th>\n",
       "      <th></th>\n",
       "      <th></th>\n",
       "      <th></th>\n",
       "      <th></th>\n",
       "      <th></th>\n",
       "      <th></th>\n",
       "      <th></th>\n",
       "    </tr>\n",
       "  </thead>\n",
       "  <tbody>\n",
       "    <tr>\n",
       "      <th>DGT-TM</th>\n",
       "      <td>49633</td>\n",
       "      <td>0.354347</td>\n",
       "      <td>1.000000</td>\n",
       "      <td>1.000000e-16</td>\n",
       "      <td>0.352841</td>\n",
       "      <td>1.160156</td>\n",
       "      <td>-0.101501</td>\n",
       "    </tr>\n",
       "    <tr>\n",
       "      <th>Global Voices</th>\n",
       "      <td>10000</td>\n",
       "      <td>0.252661</td>\n",
       "      <td>0.996531</td>\n",
       "      <td>1.000000e-16</td>\n",
       "      <td>0.367365</td>\n",
       "      <td>0.973145</td>\n",
       "      <td>0.011833</td>\n",
       "    </tr>\n",
       "    <tr>\n",
       "      <th>KDE</th>\n",
       "      <td>9231</td>\n",
       "      <td>0.306673</td>\n",
       "      <td>1.000000</td>\n",
       "      <td>1.000000e-16</td>\n",
       "      <td>0.463424</td>\n",
       "      <td>1.165039</td>\n",
       "      <td>-0.007626</td>\n",
       "    </tr>\n",
       "    <tr>\n",
       "      <th>United Nations</th>\n",
       "      <td>9545</td>\n",
       "      <td>0.390567</td>\n",
       "      <td>1.000000</td>\n",
       "      <td>1.000000e-16</td>\n",
       "      <td>0.323910</td>\n",
       "      <td>1.076172</td>\n",
       "      <td>-0.069580</td>\n",
       "    </tr>\n",
       "  </tbody>\n",
       "</table>\n",
       "</div>"
      ],
      "text/plain": [
       "               chrf_score                                      bleurt  \\\n",
       "                    count      mean       max           min      mean   \n",
       "dataset                                                                 \n",
       "DGT-TM              49633  0.354347  1.000000  1.000000e-16  0.352841   \n",
       "Global Voices       10000  0.252661  0.996531  1.000000e-16  0.367365   \n",
       "KDE                  9231  0.306673  1.000000  1.000000e-16  0.463424   \n",
       "United Nations       9545  0.390567  1.000000  1.000000e-16  0.323910   \n",
       "\n",
       "                                    \n",
       "                     max       min  \n",
       "dataset                             \n",
       "DGT-TM          1.160156 -0.101501  \n",
       "Global Voices   0.973145  0.011833  \n",
       "KDE             1.165039 -0.007626  \n",
       "United Nations  1.076172 -0.069580  "
      ]
     },
     "execution_count": 83,
     "metadata": {},
     "output_type": "execute_result"
    }
   ],
   "source": [
    "# Computando valores das métricas por dataset\n",
    "df_results.groupby('dataset').agg({'chrf_score': ['count', 'mean', 'max', 'min'], 'bleurt': ['mean', 'max', 'min']})"
   ]
  },
  {
   "cell_type": "code",
   "execution_count": 84,
   "metadata": {},
   "outputs": [
    {
     "data": {
      "text/html": [
       "<div>\n",
       "<style scoped>\n",
       "    .dataframe tbody tr th:only-of-type {\n",
       "        vertical-align: middle;\n",
       "    }\n",
       "\n",
       "    .dataframe tbody tr th {\n",
       "        vertical-align: top;\n",
       "    }\n",
       "\n",
       "    .dataframe thead tr th {\n",
       "        text-align: left;\n",
       "    }\n",
       "\n",
       "    .dataframe thead tr:last-of-type th {\n",
       "        text-align: right;\n",
       "    }\n",
       "</style>\n",
       "<table border=\"1\" class=\"dataframe\">\n",
       "  <thead>\n",
       "    <tr>\n",
       "      <th></th>\n",
       "      <th colspan=\"4\" halign=\"left\">chrf_score</th>\n",
       "      <th colspan=\"3\" halign=\"left\">bleurt</th>\n",
       "    </tr>\n",
       "    <tr>\n",
       "      <th></th>\n",
       "      <th>count</th>\n",
       "      <th>mean</th>\n",
       "      <th>max</th>\n",
       "      <th>min</th>\n",
       "      <th>mean</th>\n",
       "      <th>max</th>\n",
       "      <th>min</th>\n",
       "    </tr>\n",
       "    <tr>\n",
       "      <th>dataset</th>\n",
       "      <th></th>\n",
       "      <th></th>\n",
       "      <th></th>\n",
       "      <th></th>\n",
       "      <th></th>\n",
       "      <th></th>\n",
       "      <th></th>\n",
       "    </tr>\n",
       "  </thead>\n",
       "  <tbody>\n",
       "    <tr>\n",
       "      <th>DGT-TM</th>\n",
       "      <td>49632</td>\n",
       "      <td>0.321946</td>\n",
       "      <td>1.000000</td>\n",
       "      <td>1.000000e-16</td>\n",
       "      <td>0.335998</td>\n",
       "      <td>1.160156</td>\n",
       "      <td>-0.092651</td>\n",
       "    </tr>\n",
       "    <tr>\n",
       "      <th>Global Voices</th>\n",
       "      <td>10000</td>\n",
       "      <td>0.159281</td>\n",
       "      <td>0.996158</td>\n",
       "      <td>1.000000e-16</td>\n",
       "      <td>0.078269</td>\n",
       "      <td>0.981445</td>\n",
       "      <td>-0.132690</td>\n",
       "    </tr>\n",
       "    <tr>\n",
       "      <th>KDE</th>\n",
       "      <td>9231</td>\n",
       "      <td>0.239158</td>\n",
       "      <td>1.000000</td>\n",
       "      <td>1.000000e-16</td>\n",
       "      <td>0.387800</td>\n",
       "      <td>1.165039</td>\n",
       "      <td>-0.021591</td>\n",
       "    </tr>\n",
       "    <tr>\n",
       "      <th>United Nations</th>\n",
       "      <td>9545</td>\n",
       "      <td>0.389963</td>\n",
       "      <td>1.000000</td>\n",
       "      <td>1.000000e-16</td>\n",
       "      <td>0.311131</td>\n",
       "      <td>1.076172</td>\n",
       "      <td>-0.085449</td>\n",
       "    </tr>\n",
       "  </tbody>\n",
       "</table>\n",
       "</div>"
      ],
      "text/plain": [
       "               chrf_score                                      bleurt  \\\n",
       "                    count      mean       max           min      mean   \n",
       "dataset                                                                 \n",
       "DGT-TM              49632  0.321946  1.000000  1.000000e-16  0.335998   \n",
       "Global Voices       10000  0.159281  0.996158  1.000000e-16  0.078269   \n",
       "KDE                  9231  0.239158  1.000000  1.000000e-16  0.387800   \n",
       "United Nations       9545  0.389963  1.000000  1.000000e-16  0.311131   \n",
       "\n",
       "                                    \n",
       "                     max       min  \n",
       "dataset                             \n",
       "DGT-TM          1.160156 -0.092651  \n",
       "Global Voices   0.981445 -0.132690  \n",
       "KDE             1.165039 -0.021591  \n",
       "United Nations  1.076172 -0.085449  "
      ]
     },
     "execution_count": 84,
     "metadata": {},
     "output_type": "execute_result"
    }
   ],
   "source": [
    "# Computando valores das métricas por dataset\n",
    "df_results_e5.groupby('dataset').agg({'chrf_score': ['count', 'mean', 'max', 'min'], 'bleurt': ['mean', 'max', 'min']})"
   ]
  },
  {
   "cell_type": "markdown",
   "metadata": {},
   "source": [
    "### Teste de significância estatística"
   ]
  },
  {
   "cell_type": "code",
   "execution_count": 85,
   "metadata": {},
   "outputs": [
    {
     "name": "stdout",
     "output_type": "stream",
     "text": [
      "dataset\n",
      "DGT-TM            49632\n",
      "Global Voices     10000\n",
      "United Nations     9545\n",
      "KDE                9230\n",
      "Name: count, dtype: int64\n"
     ]
    },
    {
     "data": {
      "text/html": [
       "<div>\n",
       "<style scoped>\n",
       "    .dataframe tbody tr th:only-of-type {\n",
       "        vertical-align: middle;\n",
       "    }\n",
       "\n",
       "    .dataframe tbody tr th {\n",
       "        vertical-align: top;\n",
       "    }\n",
       "\n",
       "    .dataframe thead th {\n",
       "        text-align: right;\n",
       "    }\n",
       "</style>\n",
       "<table border=\"1\" class=\"dataframe\">\n",
       "  <thead>\n",
       "    <tr style=\"text-align: right;\">\n",
       "      <th></th>\n",
       "      <th>dataset</th>\n",
       "      <th>source</th>\n",
       "      <th>target</th>\n",
       "      <th>search_result</th>\n",
       "      <th>chrf_score</th>\n",
       "      <th>bleurt</th>\n",
       "      <th>search_result_e5</th>\n",
       "      <th>chrf_score_e5</th>\n",
       "      <th>bleurt_e5</th>\n",
       "    </tr>\n",
       "  </thead>\n",
       "  <tbody>\n",
       "    <tr>\n",
       "      <th>0</th>\n",
       "      <td>DGT-TM</td>\n",
       "      <td>Commission Decision (EU) 2019/293</td>\n",
       "      <td>Decisión (UE) 2019/293 de la Comisión</td>\n",
       "      <td>Decisión (UE) 2018/393 de la Comisión</td>\n",
       "      <td>0.814768</td>\n",
       "      <td>0.791992</td>\n",
       "      <td>Decisión (UE) 2018/993 de la Comisión</td>\n",
       "      <td>0.819976</td>\n",
       "      <td>0.734863</td>\n",
       "    </tr>\n",
       "    <tr>\n",
       "      <th>1</th>\n",
       "      <td>DGT-TM</td>\n",
       "      <td>of 8 November 2018</td>\n",
       "      <td>de 8 de noviembre de 2018</td>\n",
       "      <td>de 8 de noviembre de 2018</td>\n",
       "      <td>1.000000</td>\n",
       "      <td>0.968262</td>\n",
       "      <td>de 8 de noviembre de 2018</td>\n",
       "      <td>1.000000</td>\n",
       "      <td>0.968262</td>\n",
       "    </tr>\n",
       "    <tr>\n",
       "      <th>2</th>\n",
       "      <td>DGT-TM</td>\n",
       "      <td>on the State aid SA.43785 (2018/C) (ex 2015/PN...</td>\n",
       "      <td>relativa a la ayuda estatal SA.43785 (2018/C) ...</td>\n",
       "      <td>relativa a la ayuda estatal SA.34308 (2013/C) ...</td>\n",
       "      <td>0.414245</td>\n",
       "      <td>0.391357</td>\n",
       "      <td>relativa a la ayuda estatal SA.34308 (2013/C) ...</td>\n",
       "      <td>0.414245</td>\n",
       "      <td>0.391357</td>\n",
       "    </tr>\n",
       "    <tr>\n",
       "      <th>3</th>\n",
       "      <td>DGT-TM</td>\n",
       "      <td>(notified under document C(2018) 7308)</td>\n",
       "      <td>[notificada con el número C(2018) 7308]</td>\n",
       "      <td>[notificada con el número C(2018) 7304]</td>\n",
       "      <td>0.941222</td>\n",
       "      <td>0.968262</td>\n",
       "      <td>[notificada con el número C(2018) 1208]</td>\n",
       "      <td>0.870816</td>\n",
       "      <td>0.730469</td>\n",
       "    </tr>\n",
       "    <tr>\n",
       "      <th>4</th>\n",
       "      <td>DGT-TM</td>\n",
       "      <td>(Only the Romanian text is authentic)</td>\n",
       "      <td>(El texto en lengua rumana es el único auténtico)</td>\n",
       "      <td>(El texto en lengua rumana es el único auténtico)</td>\n",
       "      <td>1.000000</td>\n",
       "      <td>1.021484</td>\n",
       "      <td>(El texto en lengua rumana es el único auténtico)</td>\n",
       "      <td>1.000000</td>\n",
       "      <td>1.021484</td>\n",
       "    </tr>\n",
       "  </tbody>\n",
       "</table>\n",
       "</div>"
      ],
      "text/plain": [
       "  dataset                                             source  \\\n",
       "0  DGT-TM                  Commission Decision (EU) 2019/293   \n",
       "1  DGT-TM                                 of 8 November 2018   \n",
       "2  DGT-TM  on the State aid SA.43785 (2018/C) (ex 2015/PN...   \n",
       "3  DGT-TM             (notified under document C(2018) 7308)   \n",
       "4  DGT-TM              (Only the Romanian text is authentic)   \n",
       "\n",
       "                                              target  \\\n",
       "0              Decisión (UE) 2019/293 de la Comisión   \n",
       "1                          de 8 de noviembre de 2018   \n",
       "2  relativa a la ayuda estatal SA.43785 (2018/C) ...   \n",
       "3            [notificada con el número C(2018) 7308]   \n",
       "4  (El texto en lengua rumana es el único auténtico)   \n",
       "\n",
       "                                       search_result  chrf_score    bleurt  \\\n",
       "0              Decisión (UE) 2018/393 de la Comisión    0.814768  0.791992   \n",
       "1                          de 8 de noviembre de 2018    1.000000  0.968262   \n",
       "2  relativa a la ayuda estatal SA.34308 (2013/C) ...    0.414245  0.391357   \n",
       "3            [notificada con el número C(2018) 7304]    0.941222  0.968262   \n",
       "4  (El texto en lengua rumana es el único auténtico)    1.000000  1.021484   \n",
       "\n",
       "                                    search_result_e5  chrf_score_e5  bleurt_e5  \n",
       "0              Decisión (UE) 2018/993 de la Comisión       0.819976   0.734863  \n",
       "1                          de 8 de noviembre de 2018       1.000000   0.968262  \n",
       "2  relativa a la ayuda estatal SA.34308 (2013/C) ...       0.414245   0.391357  \n",
       "3            [notificada con el número C(2018) 1208]       0.870816   0.730469  \n",
       "4  (El texto en lengua rumana es el único auténtico)       1.000000   1.021484  "
      ]
     },
     "execution_count": 85,
     "metadata": {},
     "output_type": "execute_result"
    }
   ],
   "source": [
    "from scipy import stats\n",
    "\n",
    "df_results = df_results.merge(df_results_e5, on=['source', 'target', 'dataset'], how='inner', suffixes=(None, '_e5'))\n",
    "print(df_results['dataset'].value_counts())\n",
    "df_results.head()"
   ]
  },
  {
   "cell_type": "markdown",
   "metadata": {},
   "source": [
    "Exemplos de tradução:"
   ]
  },
  {
   "cell_type": "code",
   "execution_count": 86,
   "metadata": {},
   "outputs": [],
   "source": [
    "pd.set_option('display.max_colwidth', None)"
   ]
  },
  {
   "cell_type": "code",
   "execution_count": 87,
   "metadata": {},
   "outputs": [
    {
     "data": {
      "text/html": [
       "<div>\n",
       "<style scoped>\n",
       "    .dataframe tbody tr th:only-of-type {\n",
       "        vertical-align: middle;\n",
       "    }\n",
       "\n",
       "    .dataframe tbody tr th {\n",
       "        vertical-align: top;\n",
       "    }\n",
       "\n",
       "    .dataframe thead th {\n",
       "        text-align: right;\n",
       "    }\n",
       "</style>\n",
       "<table border=\"1\" class=\"dataframe\">\n",
       "  <thead>\n",
       "    <tr style=\"text-align: right;\">\n",
       "      <th></th>\n",
       "      <th>dataset</th>\n",
       "      <th>source</th>\n",
       "      <th>target</th>\n",
       "      <th>search_result</th>\n",
       "      <th>chrf_score</th>\n",
       "      <th>bleurt</th>\n",
       "      <th>search_result_e5</th>\n",
       "      <th>chrf_score_e5</th>\n",
       "      <th>bleurt_e5</th>\n",
       "    </tr>\n",
       "  </thead>\n",
       "  <tbody>\n",
       "    <tr>\n",
       "      <th>27688</th>\n",
       "      <td>DGT-TM</td>\n",
       "      <td>(ggg) paragraph 2.186 is replaced by the following:</td>\n",
       "      <td>ggg) el punto 2.186 se sustituye por el texto siguiente:</td>\n",
       "      <td>el punto 2.2 se sustituye por el texto siguiente:</td>\n",
       "      <td>0.795441</td>\n",
       "      <td>0.72168</td>\n",
       "      <td>en el punto 2.2.b), el párrafo segundo se sustituye por el texto siguiente:</td>\n",
       "      <td>0.764371</td>\n",
       "      <td>0.563477</td>\n",
       "    </tr>\n",
       "  </tbody>\n",
       "</table>\n",
       "</div>"
      ],
      "text/plain": [
       "      dataset                                               source  \\\n",
       "27688  DGT-TM  (ggg) paragraph 2.186 is replaced by the following:   \n",
       "\n",
       "                                                         target  \\\n",
       "27688  ggg) el punto 2.186 se sustituye por el texto siguiente:   \n",
       "\n",
       "                                           search_result  chrf_score   bleurt  \\\n",
       "27688  el punto 2.2 se sustituye por el texto siguiente:    0.795441  0.72168   \n",
       "\n",
       "                                                                  search_result_e5  \\\n",
       "27688  en el punto 2.2.b), el párrafo segundo se sustituye por el texto siguiente:   \n",
       "\n",
       "       chrf_score_e5  bleurt_e5  \n",
       "27688       0.764371   0.563477  "
      ]
     },
     "execution_count": 87,
     "metadata": {},
     "output_type": "execute_result"
    }
   ],
   "source": [
    "df_results.loc[df_results['dataset']=='DGT-TM'].sample(1, random_state=RANDOM_STATE)"
   ]
  },
  {
   "cell_type": "code",
   "execution_count": 88,
   "metadata": {},
   "outputs": [
    {
     "data": {
      "text/html": [
       "<div>\n",
       "<style scoped>\n",
       "    .dataframe tbody tr th:only-of-type {\n",
       "        vertical-align: middle;\n",
       "    }\n",
       "\n",
       "    .dataframe tbody tr th {\n",
       "        vertical-align: top;\n",
       "    }\n",
       "\n",
       "    .dataframe thead th {\n",
       "        text-align: right;\n",
       "    }\n",
       "</style>\n",
       "<table border=\"1\" class=\"dataframe\">\n",
       "  <thead>\n",
       "    <tr style=\"text-align: right;\">\n",
       "      <th></th>\n",
       "      <th>dataset</th>\n",
       "      <th>source</th>\n",
       "      <th>target</th>\n",
       "      <th>search_result</th>\n",
       "      <th>chrf_score</th>\n",
       "      <th>bleurt</th>\n",
       "      <th>search_result_e5</th>\n",
       "      <th>chrf_score_e5</th>\n",
       "      <th>bleurt_e5</th>\n",
       "    </tr>\n",
       "  </thead>\n",
       "  <tbody>\n",
       "    <tr>\n",
       "      <th>50815</th>\n",
       "      <td>KDE</td>\n",
       "      <td>Binden des Ports fehlgeschlagen</td>\n",
       "      <td>Port binding failed</td>\n",
       "      <td>Could not open a socket</td>\n",
       "      <td>0.077519</td>\n",
       "      <td>0.417236</td>\n",
       "      <td>Port:</td>\n",
       "      <td>0.113153</td>\n",
       "      <td>0.171753</td>\n",
       "    </tr>\n",
       "  </tbody>\n",
       "</table>\n",
       "</div>"
      ],
      "text/plain": [
       "      dataset                           source               target  \\\n",
       "50815     KDE  Binden des Ports fehlgeschlagen  Port binding failed   \n",
       "\n",
       "                 search_result  chrf_score    bleurt search_result_e5  \\\n",
       "50815  Could not open a socket    0.077519  0.417236            Port:   \n",
       "\n",
       "       chrf_score_e5  bleurt_e5  \n",
       "50815       0.113153   0.171753  "
      ]
     },
     "execution_count": 88,
     "metadata": {},
     "output_type": "execute_result"
    }
   ],
   "source": [
    "df_results.loc[df_results['dataset']=='KDE'].sample(1, random_state=RANDOM_STATE)"
   ]
  },
  {
   "cell_type": "code",
   "execution_count": 89,
   "metadata": {},
   "outputs": [
    {
     "data": {
      "text/html": [
       "<div>\n",
       "<style scoped>\n",
       "    .dataframe tbody tr th:only-of-type {\n",
       "        vertical-align: middle;\n",
       "    }\n",
       "\n",
       "    .dataframe tbody tr th {\n",
       "        vertical-align: top;\n",
       "    }\n",
       "\n",
       "    .dataframe thead th {\n",
       "        text-align: right;\n",
       "    }\n",
       "</style>\n",
       "<table border=\"1\" class=\"dataframe\">\n",
       "  <thead>\n",
       "    <tr style=\"text-align: right;\">\n",
       "      <th></th>\n",
       "      <th>dataset</th>\n",
       "      <th>source</th>\n",
       "      <th>target</th>\n",
       "      <th>search_result</th>\n",
       "      <th>chrf_score</th>\n",
       "      <th>bleurt</th>\n",
       "      <th>search_result_e5</th>\n",
       "      <th>chrf_score_e5</th>\n",
       "      <th>bleurt_e5</th>\n",
       "    </tr>\n",
       "  </thead>\n",
       "  <tbody>\n",
       "    <tr>\n",
       "      <th>65114</th>\n",
       "      <td>Global Voices</td>\n",
       "      <td>Célia Possér, Presidente da Plataforma para Direitos Humanos e Equidade de Género reagiu em entrevista a RFI, condenando o acto:</td>\n",
       "      <td>In an interview with RFI, Célia Possér, President of the Platform for Human Rights and Gender Equality, condemned the apparent act of police brutality.</td>\n",
       "      <td>The spokesperson for the UN High Commission for Human Rights, Cecile Pouilly, stated:</td>\n",
       "      <td>0.189786</td>\n",
       "      <td>0.442627</td>\n",
       "      <td>A principal vítima desses PUAs são pré-adolescentes que atingiram a idade de consentimento, 14 anos.</td>\n",
       "      <td>0.1445</td>\n",
       "      <td>0.032288</td>\n",
       "    </tr>\n",
       "  </tbody>\n",
       "</table>\n",
       "</div>"
      ],
      "text/plain": [
       "             dataset  \\\n",
       "65114  Global Voices   \n",
       "\n",
       "                                                                                                                                 source  \\\n",
       "65114  Célia Possér, Presidente da Plataforma para Direitos Humanos e Equidade de Género reagiu em entrevista a RFI, condenando o acto:   \n",
       "\n",
       "                                                                                                                                                        target  \\\n",
       "65114  In an interview with RFI, Célia Possér, President of the Platform for Human Rights and Gender Equality, condemned the apparent act of police brutality.   \n",
       "\n",
       "                                                                               search_result  \\\n",
       "65114  The spokesperson for the UN High Commission for Human Rights, Cecile Pouilly, stated:   \n",
       "\n",
       "       chrf_score    bleurt  \\\n",
       "65114    0.189786  0.442627   \n",
       "\n",
       "                                                                                           search_result_e5  \\\n",
       "65114  A principal vítima desses PUAs são pré-adolescentes que atingiram a idade de consentimento, 14 anos.   \n",
       "\n",
       "       chrf_score_e5  bleurt_e5  \n",
       "65114         0.1445   0.032288  "
      ]
     },
     "execution_count": 89,
     "metadata": {},
     "output_type": "execute_result"
    }
   ],
   "source": [
    "df_results.loc[df_results['dataset']=='Global Voices'].sample(1, random_state=RANDOM_STATE)"
   ]
  },
  {
   "cell_type": "code",
   "execution_count": 90,
   "metadata": {},
   "outputs": [
    {
     "data": {
      "text/html": [
       "<div>\n",
       "<style scoped>\n",
       "    .dataframe tbody tr th:only-of-type {\n",
       "        vertical-align: middle;\n",
       "    }\n",
       "\n",
       "    .dataframe tbody tr th {\n",
       "        vertical-align: top;\n",
       "    }\n",
       "\n",
       "    .dataframe thead th {\n",
       "        text-align: right;\n",
       "    }\n",
       "</style>\n",
       "<table border=\"1\" class=\"dataframe\">\n",
       "  <thead>\n",
       "    <tr style=\"text-align: right;\">\n",
       "      <th></th>\n",
       "      <th>dataset</th>\n",
       "      <th>source</th>\n",
       "      <th>target</th>\n",
       "      <th>search_result</th>\n",
       "      <th>chrf_score</th>\n",
       "      <th>bleurt</th>\n",
       "      <th>search_result_e5</th>\n",
       "      <th>chrf_score_e5</th>\n",
       "      <th>bleurt_e5</th>\n",
       "    </tr>\n",
       "  </thead>\n",
       "  <tbody>\n",
       "    <tr>\n",
       "      <th>74332</th>\n",
       "      <td>United Nations</td>\n",
       "      <td>11.12 Together with the World Health Organization (WHO) and the World Meteorological Organization (WMO), UNEP undertook a study on climate change and human health, which was presented to the second Conference of the Parties to the United Nations Framework Convention on Climate Change in July 1996.</td>\n",
       "      <td>11.12 En collaboration avec l’Organisation mondiale de la santé (OMS) et l’Organisation météorologique mondiale (OMM), le PNUE a effectué une étude sur les changements climatiques et la santé, qui a été présentée à la deuxième Conférence des Parties à la Convention-cadre des Nations Unies sur les changements climatiques, en juillet 1996.</td>\n",
       "      <td>45. En coopération avec divers organes et organismes des Nations Unies, le HCDH/CPDH a pris une part active à la préparation et à la célébration de la quatrième Conférence mondiale des Nations Unies sur les femmes, tenue à Beijing en septembre 1995, et de la deuxième Conférence des Nations Unies sur les établissements humains (Habitat II), tenue à Istanbul en juin 1996.</td>\n",
       "      <td>0.405673</td>\n",
       "      <td>0.156006</td>\n",
       "      <td>h) A pris note d'un projet élaboré par l'OMS, l'OMM et le PNUE de créer un réseau interinstitutions sur les changements climatiques et la santé en vue d'aider les pays à évaluer les incidences des changements climatiques sur la santé et d'améliorer l'accès à l'information pertinente;</td>\n",
       "      <td>0.380788</td>\n",
       "      <td>0.193604</td>\n",
       "    </tr>\n",
       "  </tbody>\n",
       "</table>\n",
       "</div>"
      ],
      "text/plain": [
       "              dataset  \\\n",
       "74332  United Nations   \n",
       "\n",
       "                                                                                                                                                                                                                                                                                                           source  \\\n",
       "74332  11.12 Together with the World Health Organization (WHO) and the World Meteorological Organization (WMO), UNEP undertook a study on climate change and human health, which was presented to the second Conference of the Parties to the United Nations Framework Convention on Climate Change in July 1996.   \n",
       "\n",
       "                                                                                                                                                                                                                                                                                                                                                    target  \\\n",
       "74332  11.12 En collaboration avec l’Organisation mondiale de la santé (OMS) et l’Organisation météorologique mondiale (OMM), le PNUE a effectué une étude sur les changements climatiques et la santé, qui a été présentée à la deuxième Conférence des Parties à la Convention-cadre des Nations Unies sur les changements climatiques, en juillet 1996.   \n",
       "\n",
       "                                                                                                                                                                                                                                                                                                                                                                              search_result  \\\n",
       "74332  45. En coopération avec divers organes et organismes des Nations Unies, le HCDH/CPDH a pris une part active à la préparation et à la célébration de la quatrième Conférence mondiale des Nations Unies sur les femmes, tenue à Beijing en septembre 1995, et de la deuxième Conférence des Nations Unies sur les établissements humains (Habitat II), tenue à Istanbul en juin 1996.   \n",
       "\n",
       "       chrf_score    bleurt  \\\n",
       "74332    0.405673  0.156006   \n",
       "\n",
       "                                                                                                                                                                                                                                                                                   search_result_e5  \\\n",
       "74332  h) A pris note d'un projet élaboré par l'OMS, l'OMM et le PNUE de créer un réseau interinstitutions sur les changements climatiques et la santé en vue d'aider les pays à évaluer les incidences des changements climatiques sur la santé et d'améliorer l'accès à l'information pertinente;   \n",
       "\n",
       "       chrf_score_e5  bleurt_e5  \n",
       "74332       0.380788   0.193604  "
      ]
     },
     "execution_count": 90,
     "metadata": {},
     "output_type": "execute_result"
    }
   ],
   "source": [
    "df_results.loc[df_results['dataset']=='United Nations'].sample(1, random_state=RANDOM_STATE)"
   ]
  },
  {
   "cell_type": "code",
   "execution_count": 91,
   "metadata": {},
   "outputs": [],
   "source": [
    "def run_shapiro_test(dataset, metric):\n",
    "  df_dataset = df_results.loc[df_results['dataset']==dataset]\n",
    "  print(f'{dataset}, {metric}:')\n",
    "  print(stats.shapiro(df_dataset[metric]))\n",
    "  print(stats.shapiro(df_dataset[f'{metric}_e5']))"
   ]
  },
  {
   "cell_type": "markdown",
   "metadata": {},
   "source": [
    "Verificar se as distribuições são normais.\n",
    "\n",
    "- H0 - Distribuições são normais.\n",
    "- alfa = 0,05\n",
    "- H1 - Distribuições não são normais."
   ]
  },
  {
   "cell_type": "code",
   "execution_count": 92,
   "metadata": {},
   "outputs": [
    {
     "name": "stdout",
     "output_type": "stream",
     "text": [
      "DGT-TM, chrf_score:\n",
      "ShapiroResult(statistic=0.8569687008857727, pvalue=0.0)\n",
      "ShapiroResult(statistic=0.8517916202545166, pvalue=0.0)\n",
      "DGT-TM, bleurt:\n",
      "ShapiroResult(statistic=0.8724484443664551, pvalue=0.0)\n",
      "ShapiroResult(statistic=0.872340738773346, pvalue=0.0)\n"
     ]
    },
    {
     "name": "stderr",
     "output_type": "stream",
     "text": [
      "d:\\Documentos\\Git\\Github\\translation-search\\env\\lib\\site-packages\\scipy\\stats\\_morestats.py:1882: UserWarning: p-value may not be accurate for N > 5000.\n",
      "  warnings.warn(\"p-value may not be accurate for N > 5000.\")\n"
     ]
    }
   ],
   "source": [
    "run_shapiro_test('DGT-TM', 'chrf_score')\n",
    "run_shapiro_test('DGT-TM', 'bleurt')"
   ]
  },
  {
   "cell_type": "code",
   "execution_count": 93,
   "metadata": {},
   "outputs": [
    {
     "name": "stdout",
     "output_type": "stream",
     "text": [
      "Global Voices, chrf_score:\n",
      "ShapiroResult(statistic=0.7947666645050049, pvalue=0.0)\n",
      "ShapiroResult(statistic=0.644559919834137, pvalue=0.0)\n",
      "Global Voices, bleurt:\n",
      "ShapiroResult(statistic=0.9541143774986267, pvalue=0.0)\n",
      "ShapiroResult(statistic=0.7630598545074463, pvalue=0.0)\n"
     ]
    }
   ],
   "source": [
    "run_shapiro_test('Global Voices', 'chrf_score')\n",
    "run_shapiro_test('Global Voices', 'bleurt')"
   ]
  },
  {
   "cell_type": "code",
   "execution_count": 94,
   "metadata": {},
   "outputs": [
    {
     "name": "stdout",
     "output_type": "stream",
     "text": [
      "KDE, chrf_score:\n",
      "ShapiroResult(statistic=0.868029773235321, pvalue=0.0)\n",
      "ShapiroResult(statistic=0.810253381729126, pvalue=0.0)\n",
      "KDE, bleurt:\n",
      "ShapiroResult(statistic=0.9889736771583557, pvalue=3.698928108940899e-26)\n",
      "ShapiroResult(statistic=0.975238025188446, pvalue=4.029809730569959e-37)\n"
     ]
    }
   ],
   "source": [
    "run_shapiro_test('KDE', 'chrf_score')\n",
    "run_shapiro_test('KDE', 'bleurt')"
   ]
  },
  {
   "cell_type": "code",
   "execution_count": 95,
   "metadata": {},
   "outputs": [
    {
     "name": "stdout",
     "output_type": "stream",
     "text": [
      "United Nations, chrf_score:\n",
      "ShapiroResult(statistic=0.8511727452278137, pvalue=0.0)\n",
      "ShapiroResult(statistic=0.8629845380783081, pvalue=0.0)\n",
      "United Nations, bleurt:\n",
      "ShapiroResult(statistic=0.9145960211753845, pvalue=0.0)\n",
      "ShapiroResult(statistic=0.902661919593811, pvalue=0.0)\n"
     ]
    }
   ],
   "source": [
    "run_shapiro_test('United Nations', 'chrf_score')\n",
    "run_shapiro_test('United Nations', 'bleurt')"
   ]
  },
  {
   "cell_type": "markdown",
   "metadata": {},
   "source": [
    "Aqui, realiza-se o teste pareado de Wilcoxon, já que as distribuições dos scores em cada base não são normais. Em particular, Wilcoxon testa a hipótese nula de que duas amostras pareadas relacionadas vêm da mesma distribuição, ou seja, se a distribuição das diferenças x - y é simétrica em relação a zero."
   ]
  },
  {
   "cell_type": "code",
   "execution_count": 96,
   "metadata": {},
   "outputs": [],
   "source": [
    "def run_stat_tests(dataset, metric):\n",
    "  df_dataset = df_results.loc[df_results['dataset']==dataset]\n",
    "  print(f'{dataset}, {metric}:')\n",
    "  print(stats.wilcoxon(df_dataset[metric], df_dataset[f'{metric}_e5']))"
   ]
  },
  {
   "cell_type": "code",
   "execution_count": 97,
   "metadata": {},
   "outputs": [
    {
     "name": "stdout",
     "output_type": "stream",
     "text": [
      "DGT-TM, chrf_score:\n",
      "WilcoxonResult(statistic=272344784.0, pvalue=0.0)\n",
      "DGT-TM, bleurt:\n",
      "WilcoxonResult(statistic=343050987.0, pvalue=2.0051308877443833e-122)\n"
     ]
    }
   ],
   "source": [
    "run_stat_tests('DGT-TM', 'chrf_score')\n",
    "run_stat_tests('DGT-TM', 'bleurt')"
   ]
  },
  {
   "cell_type": "code",
   "execution_count": 98,
   "metadata": {},
   "outputs": [
    {
     "name": "stdout",
     "output_type": "stream",
     "text": [
      "Global Voices, chrf_score:\n",
      "WilcoxonResult(statistic=4178635.0, pvalue=0.0)\n",
      "Global Voices, bleurt:\n",
      "WilcoxonResult(statistic=427518.5, pvalue=0.0)\n"
     ]
    }
   ],
   "source": [
    "run_stat_tests('Global Voices', 'chrf_score')\n",
    "run_stat_tests('Global Voices', 'bleurt')"
   ]
  },
  {
   "cell_type": "code",
   "execution_count": 100,
   "metadata": {},
   "outputs": [
    {
     "name": "stdout",
     "output_type": "stream",
     "text": [
      "KDE, chrf_score:\n",
      "WilcoxonResult(statistic=7271037.0, pvalue=1.5162961824392357e-257)\n",
      "KDE, bleurt:\n",
      "WilcoxonResult(statistic=6859780.5, pvalue=4.0590921203326925e-304)\n"
     ]
    }
   ],
   "source": [
    "run_stat_tests('KDE', 'chrf_score')\n",
    "run_stat_tests('KDE', 'bleurt')"
   ]
  },
  {
   "cell_type": "code",
   "execution_count": 99,
   "metadata": {},
   "outputs": [
    {
     "name": "stdout",
     "output_type": "stream",
     "text": [
      "United Nations, chrf_score:\n",
      "WilcoxonResult(statistic=13662972.0, pvalue=0.0005809801455253222)\n",
      "United Nations, bleurt:\n",
      "WilcoxonResult(statistic=12554564.0, pvalue=4.0672307240729645e-22)\n"
     ]
    }
   ],
   "source": [
    "run_stat_tests('United Nations', 'chrf_score')\n",
    "run_stat_tests('United Nations', 'bleurt')"
   ]
  }
 ],
 "metadata": {
  "kernelspec": {
   "display_name": "Python 3",
   "language": "python",
   "name": "python3"
  },
  "language_info": {
   "codemirror_mode": {
    "name": "ipython",
    "version": 3
   },
   "file_extension": ".py",
   "mimetype": "text/x-python",
   "name": "python",
   "nbconvert_exporter": "python",
   "pygments_lexer": "ipython3",
   "version": "3.10.13"
  }
 },
 "nbformat": 4,
 "nbformat_minor": 2
}
